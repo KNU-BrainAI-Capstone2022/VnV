{
 "cells": [
  {
   "cell_type": "code",
   "execution_count": 1,
   "metadata": {},
   "outputs": [
    {
     "name": "stdout",
     "output_type": "stream",
     "text": [
      "torch : 1.11.0\n",
      "python : 3.8.12 (default, Oct 12 2021, 13:49:34) \n",
      "[GCC 7.5.0]\n"
     ]
    }
   ],
   "source": [
    "import torch\n",
    "import torch.nn as nn\n",
    "import torch.nn.functional as F\n",
    "import torchvision\n",
    "import torchvision.transforms as transforms\n",
    "import torch.optim as optim\n",
    "from torch.utils.data import Dataset\n",
    "from torch.utils.data import DataLoader\n",
    "import time\n",
    "import sys\n",
    "import pytorch_model_summary\n",
    "import numpy as np\n",
    "import os\n",
    "import matplotlib.pyplot as plt\n",
    "from PIL import Image\n",
    "from tqdm import tqdm\n",
    "\n",
    "\n",
    "print(f'torch : {torch.__version__}')\n",
    "print(f'python : {sys.version}')"
   ]
  },
  {
   "cell_type": "code",
   "execution_count": 2,
   "metadata": {},
   "outputs": [],
   "source": [
    "\n",
    "class ImageData(Dataset):\n",
    "    def __init__(self,path,transform=None,target_transform=None):\n",
    "        self.path = path\n",
    "        self.files =[]\n",
    "        self.labels = []\n",
    "        for i in os.listdir(path):\n",
    "            if i[:-3]+'png' in os.listdir(path+'/label'):\n",
    "                self.files.append(i)\n",
    "                self.labels.append(i[:-3]+'png')\n",
    "        self.transform = transform\n",
    "        self.target_transform = target_transform\n",
    "        \n",
    "    def __getitem__(self,idx):\n",
    "        img = Image.open(self.path+'/'+self.files[idx])\n",
    "        label = Image.open(self.path+'/label/'+self.labels[idx])\n",
    "        #img = np.array(img)[:,:256]\n",
    "        if self.transform is not None:\n",
    "            img = self.transform(img)\n",
    "        if self.target_transform is not None:\n",
    "            label = self.target_transform(label)\n",
    "        return img, label\n",
    "\n",
    "    def __len__(self):\n",
    "        return len(self.files)\n",
    "\n",
    "class ConvertToBackground(object):\n",
    "    def __call__(self, img):\n",
    "        img = np.asarray(img,dtype=np.uint8)\n",
    "        img[img==255] = 0\n",
    "        # 64bit 부호 정수 long 타입 Tensor로 변환 \n",
    "        img = torch.from_numpy(img).long()\n",
    "        return img\n"
   ]
  },
  {
   "cell_type": "code",
   "execution_count": 3,
   "metadata": {},
   "outputs": [],
   "source": [
    "data_mean = [0.485, 0.456, 0.406]\n",
    "data_std = [0.229, 0.224, 0.225]\n",
    "\n",
    "transform = transforms.Compose(\n",
    "    [\n",
    "        transforms.Resize((224,224)),\n",
    "        #transforms.RandomHorizontalFlip(),\n",
    "        #transforms.RandomCrop((224,224)),\n",
    "        #transforms.RandomAffine(degrees=15),\n",
    "        # PIL 타입의 [0,255] data를 [0,1]의 FloatTensor로 변환\n",
    "        transforms.ToTensor(),\n",
    "        transforms.Normalize(mean=data_mean,std=data_std)\n",
    "    ]\n",
    ")\n",
    "val_transform = transforms.Compose(\n",
    "    [\n",
    "        transforms.Resize((224,224)),\n",
    "        transforms.ToTensor(),\n",
    "        transforms.Normalize(mean=data_mean,std=data_std)\n",
    "    ]\n",
    ")\n",
    "label_transform = transforms.Compose(\n",
    "    [\n",
    "        transforms.Resize((224,224)),\n",
    "        # 경계를 배경으로 처리\n",
    "        ConvertToBackground()\n",
    "    ]\n",
    ")\n",
    "\n",
    "batch_size = 4\n",
    "train_path = './data/train'\n",
    "train_set = ImageData(train_path,transform,label_transform)\n",
    "#train_set = torchvision.datasets.VOCSegmentation(root='./data', year='2012',\\\n",
    "#    image_set='train',download=False,transform=transform,target_transform=label_transform)\n",
    "train_loader = DataLoader(train_set, batch_size= batch_size,shuffle=True)\n",
    "val_path = './data/val'\n",
    "val_set = ImageData(val_path,val_transform,label_transform)\n",
    "#val_set = torchvision.datasets.VOCSegmentation(root='./data', year='2012',\\\n",
    "#    image_set='val',download=False,transform=transform,target_transform=label_transform)\n",
    "val_loader = DataLoader(val_set, batch_size= batch_size,shuffle=True)\n"
   ]
  },
  {
   "cell_type": "code",
   "execution_count": 4,
   "metadata": {},
   "outputs": [
    {
     "name": "stdout",
     "output_type": "stream",
     "text": [
      "366\n"
     ]
    }
   ],
   "source": [
    "#a,b = train_set[0]\n",
    "#print(a.shape)\n",
    "\n",
    "print(len(train_loader))\n",
    "#temp_img,temp_label = next(iter(train_loader))\n",
    "#print(temp_img)"
   ]
  },
  {
   "cell_type": "code",
   "execution_count": 5,
   "metadata": {},
   "outputs": [],
   "source": [
    "# 사전에 학습된 vgg16 parameter 가져오기\n",
    "vgg16 = torchvision.models.vgg16(pretrained=True)\n",
    "#for param in vgg16.features.parameters():\n",
    "#   param.requires_grad = False"
   ]
  },
  {
   "cell_type": "code",
   "execution_count": 6,
   "metadata": {},
   "outputs": [],
   "source": [
    "class FCN32(nn.Module):\n",
    "    # vgg 16 \n",
    "    def __init__(self,num_class):\n",
    "        super(FCN32, self).__init__()\n",
    "        self.vgg16 = vgg16.features\n",
    "        # self.conv1 = self.make_block(in_channel=3, out_channel=64,repeat=2)\n",
    "        # self.conv2 = self.make_block(in_channel=64,out_channel=128,repeat=2)\n",
    "        # self.conv3 = self.make_block(128,256,3)\n",
    "        # self.conv4 = self.make_block(256,512,3)\n",
    "        # self.conv5 = self.make_block(512,512,3)\n",
    "\n",
    "        self.fc1 = nn.Conv2d(in_channels=512,out_channels=4096,kernel_size=1)\n",
    "        self.fc2 = nn.Conv2d(4096,4096,kernel_size=1)\n",
    "        self.fc3 = nn.Conv2d(4096,num_class,kernel_size=1)\n",
    "\n",
    "        self.upsample32 = nn.ConvTranspose2d(num_class,num_class,kernel_size=32,stride=32)\n",
    "        #self.upsample32 = nn.Upsample(scale_factor=32,mode='bilinear')\n",
    "        #self._initialize_weights()\n",
    "\n",
    "    def forward(self, x):\n",
    "\n",
    "        x = self.vgg16(x)\n",
    "        x = self.fc1(x)\n",
    "        x = nn.ReLU()(x)\n",
    "        x = nn.Dropout2d(0.5)(x)\n",
    "        x = self.fc2(x)\n",
    "        x = nn.ReLU()(x)\n",
    "        x = nn.Dropout2d(0.5)(x)\n",
    "        x = self.fc3(x)\n",
    "        x = self.upsample32(x)\n",
    "        #print(x.shape)\n",
    "        return x\n",
    "        \n",
    "\n",
    "    # def _initialize_weights(self):\n",
    "    #     for m in self.modules():\n",
    "    #         print(m)\n",
    "    #         if isinstance(m, nn.Conv2d):\n",
    "    #             m.weight.data.zero_()\n",
    "    #             if m.bias is not None:\n",
    "    #                 m.bias.data.zero_()\n",
    "    # def make_block(self, in_channel, out_channel, repeat):\n",
    "    #     layers = []\n",
    "    #     for i in range(repeat):\n",
    "    #         if (i==0):\n",
    "    #             layers.append(nn.Conv2d(in_channel, out_channel, kernel_size=3, padding=1, stride=1))\n",
    "    #         else:\n",
    "    #             layers.append(nn.Conv2d(out_channel,out_channel,kernel_size=3, padding=1, stride=1))\n",
    "    #         layers.append(nn.BatchNorm2d(out_channel))\n",
    "    #         layers.append(nn.ReLU())\n",
    "    #     layers.append(nn.MaxPool2d(kernel_size=2, stride=2))\n",
    "    #     block = nn.Sequential(*layers)\n",
    "\n",
    "    #     return block"
   ]
  },
  {
   "cell_type": "code",
   "execution_count": 7,
   "metadata": {},
   "outputs": [
    {
     "name": "stdout",
     "output_type": "stream",
     "text": [
      "Using cuda device\n",
      "-----------------------------------------------------------------------------\n",
      "         Layer (type)            Input Shape         Param #     Tr. Param #\n",
      "=============================================================================\n",
      "             Conv2d-1       [4, 3, 224, 224]           1,792               0\n",
      "               ReLU-2      [4, 64, 224, 224]               0               0\n",
      "             Conv2d-3      [4, 64, 224, 224]          36,928               0\n",
      "               ReLU-4      [4, 64, 224, 224]               0               0\n",
      "          MaxPool2d-5      [4, 64, 224, 224]               0               0\n",
      "             Conv2d-6      [4, 64, 112, 112]          73,856               0\n",
      "               ReLU-7     [4, 128, 112, 112]               0               0\n",
      "             Conv2d-8     [4, 128, 112, 112]         147,584               0\n",
      "               ReLU-9     [4, 128, 112, 112]               0               0\n",
      "         MaxPool2d-10     [4, 128, 112, 112]               0               0\n",
      "            Conv2d-11       [4, 128, 56, 56]         295,168               0\n",
      "              ReLU-12       [4, 256, 56, 56]               0               0\n",
      "            Conv2d-13       [4, 256, 56, 56]         590,080               0\n",
      "              ReLU-14       [4, 256, 56, 56]               0               0\n",
      "            Conv2d-15       [4, 256, 56, 56]         590,080               0\n",
      "              ReLU-16       [4, 256, 56, 56]               0               0\n",
      "         MaxPool2d-17       [4, 256, 56, 56]               0               0\n",
      "            Conv2d-18       [4, 256, 28, 28]       1,180,160               0\n",
      "              ReLU-19       [4, 512, 28, 28]               0               0\n",
      "            Conv2d-20       [4, 512, 28, 28]       2,359,808               0\n",
      "              ReLU-21       [4, 512, 28, 28]               0               0\n",
      "            Conv2d-22       [4, 512, 28, 28]       2,359,808               0\n",
      "              ReLU-23       [4, 512, 28, 28]               0               0\n",
      "         MaxPool2d-24       [4, 512, 28, 28]               0               0\n",
      "            Conv2d-25       [4, 512, 14, 14]       2,359,808               0\n",
      "              ReLU-26       [4, 512, 14, 14]               0               0\n",
      "            Conv2d-27       [4, 512, 14, 14]       2,359,808               0\n",
      "              ReLU-28       [4, 512, 14, 14]               0               0\n",
      "            Conv2d-29       [4, 512, 14, 14]       2,359,808               0\n",
      "              ReLU-30       [4, 512, 14, 14]               0               0\n",
      "         MaxPool2d-31       [4, 512, 14, 14]               0               0\n",
      "            Conv2d-32         [4, 512, 7, 7]       2,101,248       2,101,248\n",
      "            Conv2d-33        [4, 4096, 7, 7]      16,781,312      16,781,312\n",
      "            Conv2d-34        [4, 4096, 7, 7]          86,037          86,037\n",
      "   ConvTranspose2d-35          [4, 21, 7, 7]         451,605         451,605\n",
      "=============================================================================\n",
      "Total params: 34,134,890\n",
      "Trainable params: 19,420,202\n",
      "Non-trainable params: 14,714,688\n",
      "-----------------------------------------------------------------------------\n"
     ]
    }
   ],
   "source": [
    "FCN =FCN32(num_class=21)\n",
    "\n",
    "device = 'cuda' if torch.cuda.is_available() else 'cpu'\n",
    "print(f'Using {device} device')\n",
    "#print(FCN)\n",
    "print(pytorch_model_summary.summary(FCN,torch.zeros(batch_size,3,224,224),show_input=True))"
   ]
  },
  {
   "cell_type": "code",
   "execution_count": 8,
   "metadata": {},
   "outputs": [],
   "source": [
    "criterion = nn.CrossEntropyLoss()\n",
    "optimizer = optim.Adam(FCN.parameters(), lr=0.00005)"
   ]
  },
  {
   "cell_type": "code",
   "execution_count": 9,
   "metadata": {},
   "outputs": [],
   "source": [
    "def pixel_accuracy(output, label):\n",
    "    with torch.no_grad():\n",
    "        output = torch.argmax(F.softmax(output, dim=1),dim=1)\n",
    "        correct = torch.eq(output, label).int()\n",
    "        accuracy = float(correct.sum()) / float(correct.numel())\n",
    "    return accuracy\n",
    "# https://sanghyu.tistory.com/3 -- view, contiguous\n",
    "def mIoU(output, label,num_classes=21):\n",
    "    with torch.no_grad():\n",
    "        output = F.softmax(output, dim=1)\n",
    "        output = torch.argmax(output, dim=1)\n",
    "        # 메모리에 저장된 순서를 하나씩, view할때 섞이지 않도록\n",
    "        output = output.contiguous().view(-1)\n",
    "        label = label.contiguous().view(-1)\n",
    "    \n",
    "        iou_class = []\n",
    "        for c in range(0, num_classes):\n",
    "            output_true = output==c\n",
    "            label_true = label==c\n",
    "\n",
    "            if label_true.long().sum().item() == 0:\n",
    "                iou_class.append(np.nan)\n",
    "            else:\n",
    "                intersect = torch.logical_and(output_true,label_true).sum().float().item()\n",
    "                union = torch.logical_or(output_true,label_true).sum().float().item()\n",
    "                iou= intersect/union\n",
    "                iou_class.append(iou)\n",
    "        return np.nanmean(iou_class)\n",
    "\n",
    "def get_lr(optim):\n",
    "    for param_group in optim.param_groups:\n",
    "        return param_group['lr']"
   ]
  },
  {
   "cell_type": "code",
   "execution_count": 10,
   "metadata": {},
   "outputs": [
    {
     "name": "stderr",
     "output_type": "stream",
     "text": [
      "366it [00:28, 12.90it/s]\n",
      "363it [00:23, 15.37it/s]\n"
     ]
    },
    {
     "name": "stdout",
     "output_type": "stream",
     "text": [
      "1 epcoh , time = 52.00\n",
      "train loss : 1.38889, val_loss : 1.13061\n",
      "train IoU : 0.12603, val IoU : 0.13172\n",
      "train Acc : 0.72404, val Acc : 0.74737\n"
     ]
    },
    {
     "name": "stderr",
     "output_type": "stream",
     "text": [
      "366it [00:27, 13.49it/s]\n",
      "363it [00:23, 15.53it/s]\n"
     ]
    },
    {
     "name": "stdout",
     "output_type": "stream",
     "text": [
      "2 epcoh , time = 50.51\n",
      "train loss : 1.10291, val_loss : 1.09741\n",
      "train IoU : 0.12836, val IoU : 0.12924\n",
      "train Acc : 0.74891, val Acc : 0.74766\n"
     ]
    },
    {
     "name": "stderr",
     "output_type": "stream",
     "text": [
      "366it [00:27, 13.31it/s]\n",
      "363it [00:23, 15.29it/s]\n"
     ]
    },
    {
     "name": "stdout",
     "output_type": "stream",
     "text": [
      "3 epcoh , time = 51.25\n",
      "train loss : 1.07922, val_loss : 1.06984\n",
      "train IoU : 0.13023, val IoU : 0.13585\n",
      "train Acc : 0.74912, val Acc : 0.74876\n"
     ]
    },
    {
     "name": "stderr",
     "output_type": "stream",
     "text": [
      "366it [00:26, 13.90it/s]\n",
      "363it [00:23, 15.30it/s]\n"
     ]
    },
    {
     "name": "stdout",
     "output_type": "stream",
     "text": [
      "4 epcoh , time = 50.06\n",
      "train loss : 0.99872, val_loss : 0.96155\n",
      "train IoU : 0.15645, val IoU : 0.16568\n",
      "train Acc : 0.75678, val Acc : 0.75280\n"
     ]
    },
    {
     "name": "stderr",
     "output_type": "stream",
     "text": [
      "366it [00:28, 12.74it/s]\n",
      "363it [00:23, 15.55it/s]\n"
     ]
    },
    {
     "name": "stdout",
     "output_type": "stream",
     "text": [
      "5 epcoh , time = 52.09\n",
      "train loss : 0.84980, val_loss : 0.81660\n",
      "train IoU : 0.20485, val IoU : 0.23148\n",
      "train Acc : 0.77368, val Acc : 0.78264\n"
     ]
    },
    {
     "name": "stderr",
     "output_type": "stream",
     "text": [
      "366it [00:27, 13.11it/s]\n",
      "363it [00:23, 15.56it/s]\n"
     ]
    },
    {
     "name": "stdout",
     "output_type": "stream",
     "text": [
      "6 epcoh , time = 51.26\n",
      "train loss : 0.75280, val_loss : 0.75511\n",
      "train IoU : 0.26305, val IoU : 0.25459\n",
      "train Acc : 0.79324, val Acc : 0.79190\n"
     ]
    },
    {
     "name": "stderr",
     "output_type": "stream",
     "text": [
      "366it [00:27, 13.27it/s]\n",
      "363it [00:23, 15.23it/s]\n"
     ]
    },
    {
     "name": "stdout",
     "output_type": "stream",
     "text": [
      "7 epcoh , time = 51.43\n",
      "train loss : 0.68687, val_loss : 0.71702\n",
      "train IoU : 0.29256, val IoU : 0.27751\n",
      "train Acc : 0.80551, val Acc : 0.79866\n"
     ]
    },
    {
     "name": "stderr",
     "output_type": "stream",
     "text": [
      "366it [00:28, 13.05it/s]\n",
      "363it [00:24, 14.98it/s]\n"
     ]
    },
    {
     "name": "stdout",
     "output_type": "stream",
     "text": [
      "8 epcoh , time = 52.29\n",
      "train loss : 0.64448, val_loss : 0.69603\n",
      "train IoU : 0.31467, val IoU : 0.29506\n",
      "train Acc : 0.81245, val Acc : 0.80000\n"
     ]
    },
    {
     "name": "stderr",
     "output_type": "stream",
     "text": [
      "366it [00:27, 13.23it/s]\n",
      "363it [00:23, 15.14it/s]\n"
     ]
    },
    {
     "name": "stdout",
     "output_type": "stream",
     "text": [
      "9 epcoh , time = 51.64\n",
      "train loss : 0.61670, val_loss : 0.66785\n",
      "train IoU : 0.32430, val IoU : 0.32466\n",
      "train Acc : 0.81764, val Acc : 0.81093\n"
     ]
    },
    {
     "name": "stderr",
     "output_type": "stream",
     "text": [
      "366it [00:27, 13.22it/s]\n",
      "363it [00:23, 15.35it/s]\n"
     ]
    },
    {
     "name": "stdout",
     "output_type": "stream",
     "text": [
      "10 epcoh , time = 51.36\n",
      "train loss : 0.58950, val_loss : 0.66041\n",
      "train IoU : 0.34067, val IoU : 0.32700\n",
      "train Acc : 0.82379, val Acc : 0.81084\n"
     ]
    },
    {
     "name": "stderr",
     "output_type": "stream",
     "text": [
      "366it [00:28, 12.84it/s]\n",
      "363it [00:23, 15.15it/s]\n"
     ]
    },
    {
     "name": "stdout",
     "output_type": "stream",
     "text": [
      "11 epcoh , time = 52.46\n",
      "train loss : 0.56183, val_loss : 0.65128\n",
      "train IoU : 0.35485, val IoU : 0.33138\n",
      "train Acc : 0.82928, val Acc : 0.81213\n"
     ]
    },
    {
     "name": "stderr",
     "output_type": "stream",
     "text": [
      "366it [00:27, 13.36it/s]\n",
      "363it [00:24, 14.83it/s]\n"
     ]
    },
    {
     "name": "stdout",
     "output_type": "stream",
     "text": [
      "12 epcoh , time = 51.88\n",
      "train loss : 0.53680, val_loss : 0.64191\n",
      "train IoU : 0.37501, val IoU : 0.32733\n",
      "train Acc : 0.83635, val Acc : 0.81385\n"
     ]
    },
    {
     "name": "stderr",
     "output_type": "stream",
     "text": [
      "366it [00:27, 13.40it/s]\n",
      "363it [00:23, 15.44it/s]\n"
     ]
    },
    {
     "name": "stdout",
     "output_type": "stream",
     "text": [
      "13 epcoh , time = 50.83\n",
      "train loss : 0.52237, val_loss : 0.63708\n",
      "train IoU : 0.38011, val IoU : 0.34541\n",
      "train Acc : 0.83770, val Acc : 0.81811\n"
     ]
    },
    {
     "name": "stderr",
     "output_type": "stream",
     "text": [
      "366it [00:27, 13.45it/s]\n",
      "363it [00:25, 14.35it/s]\n"
     ]
    },
    {
     "name": "stdout",
     "output_type": "stream",
     "text": [
      "14 epcoh , time = 52.51\n",
      "train loss : 0.49942, val_loss : 0.62246\n",
      "train IoU : 0.39321, val IoU : 0.36355\n",
      "train Acc : 0.84467, val Acc : 0.82049\n"
     ]
    },
    {
     "name": "stderr",
     "output_type": "stream",
     "text": [
      "366it [00:27, 13.14it/s]\n",
      "363it [00:24, 15.10it/s]\n"
     ]
    },
    {
     "name": "stdout",
     "output_type": "stream",
     "text": [
      "15 epcoh , time = 51.91\n",
      "train loss : 0.48329, val_loss : 0.62763\n",
      "train IoU : 0.40767, val IoU : 0.35578\n",
      "train Acc : 0.84841, val Acc : 0.81977\n"
     ]
    },
    {
     "name": "stderr",
     "output_type": "stream",
     "text": [
      "366it [00:27, 13.20it/s]\n",
      "363it [00:24, 14.86it/s]\n"
     ]
    },
    {
     "name": "stdout",
     "output_type": "stream",
     "text": [
      "16 epcoh , time = 52.15\n",
      "train loss : 0.47106, val_loss : 0.62974\n",
      "train IoU : 0.41368, val IoU : 0.35963\n",
      "train Acc : 0.85186, val Acc : 0.82071\n"
     ]
    },
    {
     "name": "stderr",
     "output_type": "stream",
     "text": [
      "366it [00:28, 13.01it/s]\n",
      "363it [00:24, 14.80it/s]\n"
     ]
    },
    {
     "name": "stdout",
     "output_type": "stream",
     "text": [
      "17 epcoh , time = 52.67\n",
      "train loss : 0.45209, val_loss : 0.63332\n",
      "train IoU : 0.42495, val IoU : 0.36038\n",
      "train Acc : 0.85601, val Acc : 0.82204\n"
     ]
    },
    {
     "name": "stderr",
     "output_type": "stream",
     "text": [
      "366it [00:27, 13.24it/s]\n",
      "363it [00:24, 14.87it/s]\n"
     ]
    },
    {
     "name": "stdout",
     "output_type": "stream",
     "text": [
      "18 epcoh , time = 52.07\n",
      "train loss : 0.43548, val_loss : 0.63105\n",
      "train IoU : 0.43009, val IoU : 0.36087\n",
      "train Acc : 0.86023, val Acc : 0.82151\n"
     ]
    },
    {
     "name": "stderr",
     "output_type": "stream",
     "text": [
      "366it [00:28, 13.04it/s]\n",
      "363it [00:23, 15.34it/s]\n"
     ]
    },
    {
     "name": "stdout",
     "output_type": "stream",
     "text": [
      "19 epcoh , time = 51.74\n",
      "train loss : 0.41968, val_loss : 0.63481\n",
      "train IoU : 0.44396, val IoU : 0.35857\n",
      "train Acc : 0.86389, val Acc : 0.82060\n"
     ]
    },
    {
     "name": "stderr",
     "output_type": "stream",
     "text": [
      "366it [00:27, 13.21it/s]\n",
      "363it [00:24, 14.93it/s]\n"
     ]
    },
    {
     "name": "stdout",
     "output_type": "stream",
     "text": [
      "20 epcoh , time = 52.02\n",
      "train loss : 0.40234, val_loss : 0.62949\n",
      "train IoU : 0.45447, val IoU : 0.37412\n",
      "train Acc : 0.86865, val Acc : 0.82098\n"
     ]
    },
    {
     "name": "stderr",
     "output_type": "stream",
     "text": [
      "366it [00:27, 13.13it/s]\n",
      "363it [00:23, 15.41it/s]\n"
     ]
    },
    {
     "name": "stdout",
     "output_type": "stream",
     "text": [
      "21 epcoh , time = 51.44\n",
      "train loss : 0.38955, val_loss : 0.63911\n",
      "train IoU : 0.46308, val IoU : 0.37666\n",
      "train Acc : 0.87149, val Acc : 0.82366\n"
     ]
    },
    {
     "name": "stderr",
     "output_type": "stream",
     "text": [
      "366it [00:28, 12.89it/s]\n",
      "363it [00:24, 14.88it/s]\n"
     ]
    },
    {
     "name": "stdout",
     "output_type": "stream",
     "text": [
      "22 epcoh , time = 52.78\n",
      "train loss : 0.37977, val_loss : 0.64587\n",
      "train IoU : 0.47449, val IoU : 0.37670\n",
      "train Acc : 0.87468, val Acc : 0.82170\n"
     ]
    },
    {
     "name": "stderr",
     "output_type": "stream",
     "text": [
      "366it [00:28, 12.98it/s]\n",
      "363it [00:24, 14.81it/s]\n"
     ]
    },
    {
     "name": "stdout",
     "output_type": "stream",
     "text": [
      "23 epcoh , time = 52.72\n",
      "train loss : 0.36627, val_loss : 0.64835\n",
      "train IoU : 0.48349, val IoU : 0.37337\n",
      "train Acc : 0.87817, val Acc : 0.82041\n"
     ]
    },
    {
     "name": "stderr",
     "output_type": "stream",
     "text": [
      "366it [00:28, 12.95it/s]\n",
      "363it [00:23, 15.25it/s]\n"
     ]
    },
    {
     "name": "stdout",
     "output_type": "stream",
     "text": [
      "24 epcoh , time = 52.08\n",
      "train loss : 0.35360, val_loss : 0.65397\n",
      "train IoU : 0.48786, val IoU : 0.38273\n",
      "train Acc : 0.88174, val Acc : 0.82208\n"
     ]
    },
    {
     "name": "stderr",
     "output_type": "stream",
     "text": [
      "366it [00:26, 13.65it/s]\n",
      "363it [00:24, 14.56it/s]\n"
     ]
    },
    {
     "name": "stdout",
     "output_type": "stream",
     "text": [
      "25 epcoh , time = 51.75\n",
      "train loss : 0.34098, val_loss : 0.67991\n",
      "train IoU : 0.49852, val IoU : 0.38291\n",
      "train Acc : 0.88513, val Acc : 0.82115\n"
     ]
    },
    {
     "name": "stderr",
     "output_type": "stream",
     "text": [
      "366it [00:28, 12.67it/s]\n",
      "363it [00:24, 14.95it/s]\n"
     ]
    },
    {
     "name": "stdout",
     "output_type": "stream",
     "text": [
      "26 epcoh , time = 53.18\n",
      "train loss : 0.33172, val_loss : 0.66795\n",
      "train IoU : 0.50710, val IoU : 0.36833\n",
      "train Acc : 0.88808, val Acc : 0.81727\n"
     ]
    },
    {
     "name": "stderr",
     "output_type": "stream",
     "text": [
      "366it [00:29, 12.23it/s]\n",
      "363it [00:23, 15.58it/s]\n"
     ]
    },
    {
     "name": "stdout",
     "output_type": "stream",
     "text": [
      "27 epcoh , time = 53.23\n",
      "train loss : 0.32098, val_loss : 0.67102\n",
      "train IoU : 0.51375, val IoU : 0.38398\n",
      "train Acc : 0.89125, val Acc : 0.81864\n"
     ]
    },
    {
     "name": "stderr",
     "output_type": "stream",
     "text": [
      "366it [00:28, 12.75it/s]\n",
      "363it [00:23, 15.31it/s]\n"
     ]
    },
    {
     "name": "stdout",
     "output_type": "stream",
     "text": [
      "28 epcoh , time = 52.43\n",
      "train loss : 0.31421, val_loss : 0.67306\n",
      "train IoU : 0.51876, val IoU : 0.38953\n",
      "train Acc : 0.89186, val Acc : 0.82019\n"
     ]
    },
    {
     "name": "stderr",
     "output_type": "stream",
     "text": [
      "366it [00:28, 12.96it/s]\n",
      "363it [00:23, 15.52it/s]\n"
     ]
    },
    {
     "name": "stdout",
     "output_type": "stream",
     "text": [
      "29 epcoh , time = 51.64\n",
      "train loss : 0.30531, val_loss : 0.68573\n",
      "train IoU : 0.52625, val IoU : 0.38609\n",
      "train Acc : 0.89592, val Acc : 0.82411\n"
     ]
    },
    {
     "name": "stderr",
     "output_type": "stream",
     "text": [
      "366it [00:27, 13.41it/s]\n",
      "363it [00:23, 15.17it/s]\n"
     ]
    },
    {
     "name": "stdout",
     "output_type": "stream",
     "text": [
      "30 epcoh , time = 51.22\n",
      "train loss : 0.29854, val_loss : 0.68774\n",
      "train IoU : 0.53679, val IoU : 0.39157\n",
      "train Acc : 0.89728, val Acc : 0.82112\n"
     ]
    },
    {
     "name": "stderr",
     "output_type": "stream",
     "text": [
      "366it [00:28, 12.85it/s]\n",
      "363it [00:23, 15.69it/s]\n"
     ]
    },
    {
     "name": "stdout",
     "output_type": "stream",
     "text": [
      "31 epcoh , time = 51.62\n",
      "train loss : 0.28849, val_loss : 0.70973\n",
      "train IoU : 0.53559, val IoU : 0.37586\n",
      "train Acc : 0.90053, val Acc : 0.82156\n"
     ]
    },
    {
     "name": "stderr",
     "output_type": "stream",
     "text": [
      "366it [00:27, 13.21it/s]\n",
      "363it [00:24, 15.02it/s]\n"
     ]
    },
    {
     "name": "stdout",
     "output_type": "stream",
     "text": [
      "32 epcoh , time = 51.89\n",
      "train loss : 0.28256, val_loss : 0.71324\n",
      "train IoU : 0.54292, val IoU : 0.37556\n",
      "train Acc : 0.90205, val Acc : 0.82305\n"
     ]
    },
    {
     "name": "stderr",
     "output_type": "stream",
     "text": [
      "366it [00:28, 12.90it/s]\n",
      "363it [00:23, 15.20it/s]\n"
     ]
    },
    {
     "name": "stdout",
     "output_type": "stream",
     "text": [
      "33 epcoh , time = 52.27\n",
      "train loss : 0.27831, val_loss : 0.69843\n",
      "train IoU : 0.55001, val IoU : 0.37835\n",
      "train Acc : 0.90257, val Acc : 0.81775\n"
     ]
    },
    {
     "name": "stderr",
     "output_type": "stream",
     "text": [
      "366it [00:29, 12.52it/s]\n",
      "363it [00:24, 14.75it/s]\n"
     ]
    },
    {
     "name": "stdout",
     "output_type": "stream",
     "text": [
      "34 epcoh , time = 53.85\n",
      "train loss : 0.27069, val_loss : 0.71318\n",
      "train IoU : 0.55387, val IoU : 0.39862\n",
      "train Acc : 0.90535, val Acc : 0.81619\n"
     ]
    },
    {
     "name": "stderr",
     "output_type": "stream",
     "text": [
      "366it [00:27, 13.37it/s]\n",
      "363it [00:24, 15.03it/s]\n"
     ]
    },
    {
     "name": "stdout",
     "output_type": "stream",
     "text": [
      "35 epcoh , time = 51.54\n",
      "train loss : 0.26488, val_loss : 0.72926\n",
      "train IoU : 0.55530, val IoU : 0.38354\n",
      "train Acc : 0.90666, val Acc : 0.82145\n"
     ]
    },
    {
     "name": "stderr",
     "output_type": "stream",
     "text": [
      "366it [00:29, 12.61it/s]\n",
      "363it [00:24, 15.12it/s]\n"
     ]
    },
    {
     "name": "stdout",
     "output_type": "stream",
     "text": [
      "36 epcoh , time = 53.04\n",
      "train loss : 0.25967, val_loss : 0.72760\n",
      "train IoU : 0.56028, val IoU : 0.39199\n",
      "train Acc : 0.90830, val Acc : 0.82053\n"
     ]
    },
    {
     "name": "stderr",
     "output_type": "stream",
     "text": [
      "366it [00:27, 13.23it/s]\n",
      "363it [00:24, 14.85it/s]\n"
     ]
    },
    {
     "name": "stdout",
     "output_type": "stream",
     "text": [
      "37 epcoh , time = 52.11\n",
      "train loss : 0.25502, val_loss : 0.72687\n",
      "train IoU : 0.56359, val IoU : 0.39644\n",
      "train Acc : 0.90941, val Acc : 0.81849\n"
     ]
    },
    {
     "name": "stderr",
     "output_type": "stream",
     "text": [
      "366it [00:28, 13.05it/s]\n",
      "363it [00:24, 14.73it/s]\n"
     ]
    },
    {
     "name": "stdout",
     "output_type": "stream",
     "text": [
      "38 epcoh , time = 52.70\n",
      "train loss : 0.24877, val_loss : 0.74026\n",
      "train IoU : 0.56957, val IoU : 0.38211\n",
      "train Acc : 0.91164, val Acc : 0.82387\n"
     ]
    },
    {
     "name": "stderr",
     "output_type": "stream",
     "text": [
      "366it [00:27, 13.25it/s]\n",
      "363it [00:24, 14.75it/s]\n"
     ]
    },
    {
     "name": "stdout",
     "output_type": "stream",
     "text": [
      "39 epcoh , time = 52.23\n",
      "train loss : 0.24197, val_loss : 0.77823\n",
      "train IoU : 0.57483, val IoU : 0.37806\n",
      "train Acc : 0.91370, val Acc : 0.82410\n"
     ]
    },
    {
     "name": "stderr",
     "output_type": "stream",
     "text": [
      "366it [00:28, 12.93it/s]\n",
      "363it [00:25, 14.30it/s]\n"
     ]
    },
    {
     "name": "stdout",
     "output_type": "stream",
     "text": [
      "40 epcoh , time = 53.71\n",
      "train loss : 0.23841, val_loss : 0.78347\n",
      "train IoU : 0.57670, val IoU : 0.38204\n",
      "train Acc : 0.91454, val Acc : 0.82410\n"
     ]
    },
    {
     "name": "stderr",
     "output_type": "stream",
     "text": [
      "366it [00:27, 13.14it/s]\n",
      "363it [00:23, 15.29it/s]\n"
     ]
    },
    {
     "name": "stdout",
     "output_type": "stream",
     "text": [
      "41 epcoh , time = 51.61\n",
      "train loss : 0.23520, val_loss : 0.76182\n",
      "train IoU : 0.58198, val IoU : 0.38165\n",
      "train Acc : 0.91492, val Acc : 0.82250\n"
     ]
    },
    {
     "name": "stderr",
     "output_type": "stream",
     "text": [
      "366it [00:28, 12.76it/s]\n",
      "363it [00:25, 14.23it/s]\n"
     ]
    },
    {
     "name": "stdout",
     "output_type": "stream",
     "text": [
      "42 epcoh , time = 54.18\n",
      "train loss : 0.23205, val_loss : 0.76936\n",
      "train IoU : 0.58106, val IoU : 0.39305\n",
      "train Acc : 0.91610, val Acc : 0.82125\n"
     ]
    },
    {
     "name": "stderr",
     "output_type": "stream",
     "text": [
      "366it [00:27, 13.10it/s]\n",
      "363it [00:24, 14.68it/s]\n"
     ]
    },
    {
     "name": "stdout",
     "output_type": "stream",
     "text": [
      "43 epcoh , time = 52.67\n",
      "train loss : 0.22753, val_loss : 0.77842\n",
      "train IoU : 0.59026, val IoU : 0.39230\n",
      "train Acc : 0.91737, val Acc : 0.81949\n"
     ]
    },
    {
     "name": "stderr",
     "output_type": "stream",
     "text": [
      "366it [00:28, 12.97it/s]\n",
      "363it [00:24, 14.85it/s]\n"
     ]
    },
    {
     "name": "stdout",
     "output_type": "stream",
     "text": [
      "44 epcoh , time = 52.67\n",
      "train loss : 0.22313, val_loss : 0.77260\n",
      "train IoU : 0.59365, val IoU : 0.38718\n",
      "train Acc : 0.91874, val Acc : 0.82203\n"
     ]
    },
    {
     "name": "stderr",
     "output_type": "stream",
     "text": [
      "366it [00:27, 13.33it/s]\n",
      "363it [00:24, 14.69it/s]\n"
     ]
    },
    {
     "name": "stdout",
     "output_type": "stream",
     "text": [
      "45 epcoh , time = 52.18\n",
      "train loss : 0.22041, val_loss : 0.79937\n",
      "train IoU : 0.59049, val IoU : 0.39146\n",
      "train Acc : 0.91921, val Acc : 0.82140\n"
     ]
    },
    {
     "name": "stderr",
     "output_type": "stream",
     "text": [
      "366it [00:28, 13.02it/s]\n",
      "363it [00:26, 13.88it/s]\n"
     ]
    },
    {
     "name": "stdout",
     "output_type": "stream",
     "text": [
      "46 epcoh , time = 54.26\n",
      "train loss : 0.21883, val_loss : 0.79312\n",
      "train IoU : 0.59616, val IoU : 0.39615\n",
      "train Acc : 0.91956, val Acc : 0.82162\n"
     ]
    },
    {
     "name": "stderr",
     "output_type": "stream",
     "text": [
      "366it [00:28, 13.06it/s]\n",
      "363it [00:24, 14.91it/s]\n"
     ]
    },
    {
     "name": "stdout",
     "output_type": "stream",
     "text": [
      "47 epcoh , time = 52.39\n",
      "train loss : 0.21285, val_loss : 0.80403\n",
      "train IoU : 0.60132, val IoU : 0.38442\n",
      "train Acc : 0.92149, val Acc : 0.82175\n"
     ]
    },
    {
     "name": "stderr",
     "output_type": "stream",
     "text": [
      "366it [00:27, 13.37it/s]\n",
      "363it [00:25, 14.23it/s]\n"
     ]
    },
    {
     "name": "stdout",
     "output_type": "stream",
     "text": [
      "48 epcoh , time = 52.90\n",
      "train loss : 0.21146, val_loss : 0.79903\n",
      "train IoU : 0.60098, val IoU : 0.38869\n",
      "train Acc : 0.92157, val Acc : 0.82407\n"
     ]
    },
    {
     "name": "stderr",
     "output_type": "stream",
     "text": [
      "366it [00:28, 12.84it/s]\n",
      "363it [00:25, 14.26it/s]\n"
     ]
    },
    {
     "name": "stdout",
     "output_type": "stream",
     "text": [
      "49 epcoh , time = 53.98\n",
      "train loss : 0.20913, val_loss : 0.80748\n",
      "train IoU : 0.60778, val IoU : 0.39160\n",
      "train Acc : 0.92263, val Acc : 0.82217\n"
     ]
    },
    {
     "name": "stderr",
     "output_type": "stream",
     "text": [
      "366it [00:27, 13.22it/s]\n",
      "363it [00:19, 18.96it/s]"
     ]
    },
    {
     "name": "stdout",
     "output_type": "stream",
     "text": [
      "50 epcoh , time = 46.84\n",
      "train loss : 0.20454, val_loss : 0.81671\n",
      "train IoU : 0.60726, val IoU : 0.38457\n",
      "train Acc : 0.92390, val Acc : 0.82633\n",
      "Finish Training\n"
     ]
    },
    {
     "name": "stderr",
     "output_type": "stream",
     "text": [
      "\n"
     ]
    }
   ],
   "source": [
    "# 학습\n",
    "FCN.to(device)\n",
    "epochs= 50\n",
    "best_loss = 0\n",
    "train_loss_list = []\n",
    "train_acc_list = []\n",
    "train_iou_list = []\n",
    "val_loss_list = []\n",
    "val_acc_list = []\n",
    "val_iou_list = []\n",
    "min_miou = 0\n",
    "lrs = []\n",
    "for epoch in range(epochs):\n",
    "    val_running_loss = 0\n",
    "    train_running_loss =0\n",
    "    start_time = time.time()\n",
    "    train_iou_score = 0\n",
    "    val_iou_score =0\n",
    "    train_acc = 0\n",
    "    val_acc = 0\n",
    "\n",
    "    FCN.train()\n",
    "    for iter,data in tqdm(enumerate(train_loader)):\n",
    "        inputs, labels = data\n",
    "        inputs = inputs.to(device)\n",
    "        labels = labels.to(device)\n",
    "        optimizer.zero_grad()\n",
    "        outputs = FCN(inputs)\n",
    "        # print(f'input shape : {inputs.shape}')\n",
    "        # print(f'output shape : {outputs[0][0].shape}')\n",
    "        # print(f'output  --{outputs[0][0]}')\n",
    "        # print(f'labels shape : {labels.shape}')\n",
    "        # print(f'lable --{labels[labels>0]}')\n",
    "        loss = criterion(outputs,labels) \n",
    "        loss.backward()\n",
    "        optimizer.step()\n",
    "\n",
    "        train_iou_score += mIoU(outputs, labels)\n",
    "        train_acc += pixel_accuracy(outputs, labels)\n",
    "        train_running_loss += loss.item()\n",
    "    \n",
    "    FCN.eval()\n",
    "    with torch.no_grad():\n",
    "        for iter, vdata in tqdm(enumerate(val_loader)):\n",
    "            vinputs, vlabels = vdata\n",
    "            vinputs = vinputs.to(device)\n",
    "            vlabels = vlabels.to(device)\n",
    "\n",
    "            voutputs = FCN(vinputs)\n",
    "            vloss = criterion(voutputs,vlabels)\n",
    "\n",
    "            val_running_loss += vloss.item()\n",
    "            val_iou_score += mIoU(voutputs,vlabels)\n",
    "            val_acc += pixel_accuracy(voutputs,vlabels)\n",
    "\n",
    "\n",
    "        train_running_loss /= len(train_loader)\n",
    "        train_iou_score /=len(train_loader)\n",
    "        train_acc /=len(train_loader)\n",
    "        val_running_loss /= len(val_loader)\n",
    "        val_iou_score /=len(val_loader)\n",
    "        val_acc /=len(val_loader)\n",
    "        lrs.append(get_lr(optimizer))\n",
    "\n",
    "        print(f'{epoch+1} epcoh , time = {time.time()-start_time:.2f}')\n",
    "        print(f'train loss : {train_running_loss:.5f}, val_loss : {val_running_loss:.5f}')\n",
    "        print(f'train IoU : {train_iou_score:.5f}, val IoU : {val_iou_score:.5f}')\n",
    "        print(f'train Acc : {train_acc:.5f}, val Acc : {val_acc:.5f}')\n",
    "        train_loss_list.append(train_running_loss)\n",
    "        train_iou_list.append(train_iou_score)\n",
    "        train_acc_list.append(train_acc)\n",
    "        val_loss_list.append(val_running_loss)\n",
    "        val_iou_list.append(val_iou_score)\n",
    "        val_acc_list.append(val_acc)\n",
    "\n",
    "        if min_miou < val_iou_score:\n",
    "            min_miou = val_iou_score\n",
    "            #print('save model')\n",
    "            torch.save(FCN, './models/FCN32-Vgg16.pt') \n",
    "            \n",
    "                   \n",
    "history = {'train_loss': train_loss_list, 'val_loss':val_loss_list,'train_miou': train_iou_list,\n",
    "'val_miou':val_iou_list,'train_acc':train_acc_list,'val_acc':val_acc_list, 'lr':lrs}\n",
    "print('Finish Training')"
   ]
  },
  {
   "cell_type": "code",
   "execution_count": 11,
   "metadata": {},
   "outputs": [
    {
     "data": {
      "image/png": "[encoded data removed]",
      "text/plain": [
       "<Figure size 432x288 with 1 Axes>"
      ]
     },
     "metadata": {
      "needs_background": "light"
     },
     "output_type": "display_data"
    },
    {
     "data": {
      "image/png": "[encoded data removed]",
      "text/plain": [
       "<Figure size 432x288 with 1 Axes>"
      ]
     },
     "metadata": {
      "needs_background": "light"
     },
     "output_type": "display_data"
    },
    {
     "data": {
      "image/png": "[encoded data removed]",
      "text/plain": [
       "<Figure size 432x288 with 1 Axes>"
      ]
     },
     "metadata": {
      "needs_background": "light"
     },
     "output_type": "display_data"
    }
   ],
   "source": [
    "history = {'train_loss': train_loss_list, 'val_loss':val_loss_list,'train_miou': train_iou_list,\n",
    "'val_miou':val_iou_list,'train_acc':train_acc_list,'val_acc':val_acc_list,'lr':lrs}\n",
    "def plot_loss(history):\n",
    "    plt.plot(history['train_loss'], label='train_loss')\n",
    "    plt.plot(history['val_loss'], label='val_loss')\n",
    "    plt.title('Loss')\n",
    "    plt.xlabel('epoch')\n",
    "    plt.ylabel('loss')\n",
    "    plt.legend()\n",
    "    plt.show()\n",
    "\n",
    "def plot_miou(history):\n",
    "    plt.plot(history['train_miou'], label='train_miou')\n",
    "    plt.plot(history['val_miou'], label='val_miou')\n",
    "    plt.title('MIoU')\n",
    "    plt.xlabel('epoch')\n",
    "    plt.ylabel('miou')\n",
    "    plt.legend()\n",
    "    plt.show()\n",
    "\n",
    "def plot_acc(history):\n",
    "    plt.plot(history['train_acc'], label='train_acc')\n",
    "    plt.plot(history['val_acc'], label='val_acc')\n",
    "    plt.title('Accuracy')\n",
    "    plt.xlabel('epoch')\n",
    "    plt.ylabel('acc')\n",
    "    plt.legend()\n",
    "    plt.show()\n",
    "plot_loss(history)\n",
    "plot_acc(history)\n",
    "plot_miou(history)"
   ]
  },
  {
   "cell_type": "code",
   "execution_count": 12,
   "metadata": {},
   "outputs": [],
   "source": [
    "best=torch.load('./models/FCN32-Vgg16.pt')"
   ]
  },
  {
   "cell_type": "code",
   "execution_count": 13,
   "metadata": {},
   "outputs": [],
   "source": [
    "def decode_segmap(image, num_class=21):\n",
    "    label_color = np.array([(0, 0, 0),\n",
    "               (128, 0, 0), (0, 128, 0), (128, 128, 0), (0, 0, 128), (128, 0, 128),\n",
    "               (0, 128, 128), (128, 128, 128), (64, 0, 0), (192, 0, 0), (64, 128, 0),\n",
    "               (192, 128, 0), (64, 0, 128), (192, 0, 128), (64, 128, 128), (192, 128, 128),\n",
    "               (0, 64, 0), (128, 64, 0), (0, 192, 0), (128, 192, 0), (0, 64, 128)])\n",
    "    r = np.zeros_like(image).astype(np.uint8)\n",
    "    g = np.zeros_like(image).astype(np.uint8)\n",
    "    b = np.zeros_like(image).astype(np.uint8)\n",
    "\n",
    "    for l in range(0, num_class):\n",
    "        idx = image==l\n",
    "        r[idx] = label_color[l,0]\n",
    "        g[idx] = label_color[l,1]\n",
    "        b[idx] = label_color[l,2]\n",
    "    rgb =np.stack([r,g,b], axis=2)\n",
    "    return rgb"
   ]
  },
  {
   "cell_type": "code",
   "execution_count": 14,
   "metadata": {},
   "outputs": [
    {
     "data": {
      "image/png": "[encoded data removed]",
      "text/plain": [
       "<Figure size 1080x720 with 3 Axes>"
      ]
     },
     "metadata": {
      "needs_background": "light"
     },
     "output_type": "display_data"
    }
   ],
   "source": [
    "#img, label= train_set[0]\n",
    "best.eval()\n",
    "with torch.no_grad():\n",
    "    for i, data in enumerate(train_loader):\n",
    "        img, label = data\n",
    "        \n",
    "        best.to(device)\n",
    "        #print(f'input shape:',img.shape)\n",
    "        img = img.to(device)\n",
    "        output = best(img)\n",
    "\n",
    "        # tensor의 추적 제거 detach\n",
    "        pred = torch.argmax(output[0], dim=0).detach().cpu().numpy()\n",
    "        pred = decode_segmap(pred,21)\n",
    "        \n",
    "        img = img.squeeze() * torch.tensor(data_std).view(3, 1, 1).to(device)\n",
    "        img = img + torch.tensor(data_mean).view(3, 1, 1).to(device)\n",
    "        img = img[0].detach().cpu().numpy()\n",
    "        img = img.reshape(img.shape[1], img.shape[2], img.shape[0])\n",
    "\n",
    "        label = decode_segmap(label[0],21)\n",
    "\n",
    "        plt.figure(figsize=(15,10))\n",
    "        plt.subplot(1,3,1)\n",
    "        plt.title('input')\n",
    "        plt.axis('off')\n",
    "        plt.imshow(img)\n",
    "        plt.subplot(1,3,2)\n",
    "        plt.title('output')\n",
    "        plt.axis('off')\n",
    "        plt.imshow(pred)\n",
    "        plt.subplot(1,3,3)\n",
    "        plt.title('label')\n",
    "        plt.axis('off')\n",
    "        plt.imshow(label[0])\n",
    "        break\n"
   ]
  },
  {
   "cell_type": "code",
   "execution_count": null,
   "metadata": {},
   "outputs": [],
   "source": []
  }
 ],
 "metadata": {
  "interpreter": {
   "hash": "d4d1e4263499bec80672ea0156c357c1ee493ec2b1c70f0acce89fc37c4a6abe"
  },
  "kernelspec": {
   "display_name": "Python 3.8.12 ('base')",
   "language": "python",
   "name": "python3"
  },
  "language_info": {
   "codemirror_mode": {
    "name": "ipython",
    "version": 3
   },
   "file_extension": ".py",
   "mimetype": "text/x-python",
   "name": "python",
   "nbconvert_exporter": "python",
   "pygments_lexer": "ipython3",
   "version": "3.8.12"
  },
  "orig_nbformat": 4
 },
 "nbformat": 4,
 "nbformat_minor": 2
}
