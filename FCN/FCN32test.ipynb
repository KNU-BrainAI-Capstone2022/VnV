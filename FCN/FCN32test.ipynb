{
 "cells": [
  {
   "cell_type": "code",
   "execution_count": 11,
   "metadata": {},
   "outputs": [
    {
     "name": "stdout",
     "output_type": "stream",
     "text": [
      "torch : 1.11.0\n",
      "python : 3.8.12 (default, Oct 12 2021, 13:49:34) \n",
      "[GCC 7.5.0]\n"
     ]
    }
   ],
   "source": [
    "import torch\n",
    "import torch.nn as nn\n",
    "import torch.nn.functional as F\n",
    "import torchvision\n",
    "import torchvision.transforms as transforms\n",
    "import torch.optim as optim\n",
    "from torch.utils.data import Dataset\n",
    "from torch.utils.data import DataLoader\n",
    "import time\n",
    "import sys\n",
    "import pytorch_model_summary\n",
    "import numpy as np\n",
    "import os\n",
    "import matplotlib.pyplot as plt\n",
    "from PIL import Image\n",
    "from tqdm import tqdm\n",
    "\n",
    "\n",
    "print(f'torch : {torch.__version__}')\n",
    "print(f'python : {sys.version}')"
   ]
  },
  {
   "cell_type": "code",
   "execution_count": 12,
   "metadata": {},
   "outputs": [],
   "source": [
    "\n",
    "class ImageData(Dataset):\n",
    "    def __init__(self,path,transform=None,target_transform=None):\n",
    "        self.path = path\n",
    "        self.files =[]\n",
    "        self.labels = []\n",
    "        for i in os.listdir(path):\n",
    "            if i[:-3]+'png' in os.listdir(path+'/label'):\n",
    "                self.files.append(i)\n",
    "                self.labels.append(i[:-3]+'png')\n",
    "        self.transform = transform\n",
    "        self.target_transform = target_transform\n",
    "        \n",
    "    def __getitem__(self,idx):\n",
    "        img = Image.open(self.path+'/'+self.files[idx])\n",
    "        label = Image.open(self.path+'/label/'+self.labels[idx])\n",
    "        #img = np.array(img)[:,:256]\n",
    "        if self.transform is not None:\n",
    "            img = self.transform(img)\n",
    "        if self.target_transform is not None:\n",
    "            label = self.target_transform(label)\n",
    "        return img, label\n",
    "\n",
    "    def __len__(self):\n",
    "        return len(self.files)\n",
    "\n",
    "class ConvertToBackground(object):\n",
    "    def __call__(self, img):\n",
    "        img = np.asarray(img,dtype=np.uint8)\n",
    "        img[img==255] = 0\n",
    "        # 64bit 부호 정수 long 타입 Tensor로 변환 \n",
    "        img = torch.from_numpy(img).long()\n",
    "        return img\n"
   ]
  },
  {
   "cell_type": "code",
   "execution_count": 13,
   "metadata": {},
   "outputs": [],
   "source": [
    "data_mean = [0.485, 0.456, 0.406]\n",
    "data_std = [0.229, 0.224, 0.225]\n",
    "\n",
    "transform = transforms.Compose(\n",
    "    [\n",
    "        transforms.Resize((224,224)),\n",
    "        #transforms.RandomHorizontalFlip(),\n",
    "        #transforms.RandomCrop((224,224)),\n",
    "        #transforms.RandomAffine(degrees=15),\n",
    "        # PIL 타입의 [0,255] data를 [0,1]의 FloatTensor로 변환\n",
    "        transforms.ToTensor(),\n",
    "        transforms.Normalize(mean=data_mean,std=data_std)\n",
    "    ]\n",
    ")\n",
    "val_transform = transforms.Compose(\n",
    "    [\n",
    "        transforms.Resize((224,224)),\n",
    "        transforms.ToTensor(),\n",
    "        transforms.Normalize(mean=data_mean,std=data_std)\n",
    "    ]\n",
    ")\n",
    "label_transform = transforms.Compose(\n",
    "    [\n",
    "        transforms.Resize((224,224)),\n",
    "        # 경계를 배경으로 처리\n",
    "        ConvertToBackground()\n",
    "    ]\n",
    ")\n",
    "\n",
    "batch_size = 4\n",
    "train_path = './data/train'\n",
    "train_set = ImageData(train_path,transform,label_transform)\n",
    "#train_set = torchvision.datasets.VOCSegmentation(root='./data', year='2012',\\\n",
    "#    image_set='train',download=False,transform=transform,target_transform=label_transform)\n",
    "train_loader = DataLoader(train_set, batch_size= batch_size,shuffle=True)\n",
    "val_path = './data/val'\n",
    "val_set = ImageData(val_path,val_transform,label_transform)\n",
    "#val_set = torchvision.datasets.VOCSegmentation(root='./data', year='2012',\\\n",
    "#    image_set='val',download=False,transform=transform,target_transform=label_transform)\n",
    "val_loader = DataLoader(val_set, batch_size= batch_size,shuffle=True)\n"
   ]
  },
  {
   "cell_type": "code",
   "execution_count": 14,
   "metadata": {},
   "outputs": [
    {
     "name": "stdout",
     "output_type": "stream",
     "text": [
      "366\n"
     ]
    }
   ],
   "source": [
    "#a,b = train_set[0]\n",
    "#print(a.shape)\n",
    "\n",
    "print(len(train_loader))\n",
    "#temp_img,temp_label = next(iter(train_loader))\n",
    "#print(temp_img)"
   ]
  },
  {
   "cell_type": "code",
   "execution_count": 15,
   "metadata": {},
   "outputs": [],
   "source": [
    "# 사전에 학습된 vgg16 parameter 가져오기\n",
    "vgg16 = torchvision.models.vgg16(pretrained=True)\n",
    "#for param in vgg16.features.parameters():\n",
    "#   param.requires_grad = False"
   ]
  },
  {
   "cell_type": "code",
   "execution_count": 16,
   "metadata": {},
   "outputs": [],
   "source": [
    "class FCN32(nn.Module):\n",
    "    # vgg 16 \n",
    "    def __init__(self,num_class):\n",
    "        super(FCN32, self).__init__()\n",
    "        self.vgg16 = vgg16.features\n",
    "        # self.conv1 = self.make_block(in_channel=3, out_channel=64,repeat=2)\n",
    "        # self.conv2 = self.make_block(in_channel=64,out_channel=128,repeat=2)\n",
    "        # self.conv3 = self.make_block(128,256,3)\n",
    "        # self.conv4 = self.make_block(256,512,3)\n",
    "        # self.conv5 = self.make_block(512,512,3)\n",
    "\n",
    "        self.fc1 = nn.Conv2d(in_channels=512,out_channels=4096,kernel_size=1)\n",
    "        self.fc2 = nn.Conv2d(4096,4096,kernel_size=1)\n",
    "        self.fc3 = nn.Conv2d(4096,num_class,kernel_size=1)\n",
    "\n",
    "        self.upsample32 = nn.ConvTranspose2d(in_channels=num_class,out_channels=num_class,kernel_size=32,stride=32,bias=False)\n",
    "        #self.upsample32 = nn.Upsample(scale_factor=32,mode='bilinear')\n",
    "        #self._initialize_weights()\n",
    "\n",
    "    def forward(self, x):\n",
    "\n",
    "        x = self.vgg16(x)\n",
    "        x = self.fc1(x)\n",
    "        x = nn.ReLU()(x)\n",
    "        x = nn.Dropout2d(0.5)(x)\n",
    "        x = self.fc2(x)\n",
    "        x = nn.ReLU()(x)\n",
    "        x = nn.Dropout2d(0.5)(x)\n",
    "        x = self.fc3(x)\n",
    "        x = self.upsample32(x)\n",
    "        #print(x.shape)\n",
    "        return x\n",
    "        \n",
    "\n",
    "    # def _initialize_weights(self):\n",
    "    #     for m in self.modules():\n",
    "    #         print(m)\n",
    "    #         if isinstance(m, nn.Conv2d):\n",
    "    #             m.weight.data.zero_()\n",
    "    #             if m.bias is not None:\n",
    "    #                 m.bias.data.zero_()\n",
    "    # def make_block(self, in_channel, out_channel, repeat):\n",
    "    #     layers = []\n",
    "    #     for i in range(repeat):\n",
    "    #         if (i==0):\n",
    "    #             layers.append(nn.Conv2d(in_channel, out_channel, kernel_size=3, padding=1, stride=1))\n",
    "    #         else:\n",
    "    #             layers.append(nn.Conv2d(out_channel,out_channel,kernel_size=3, padding=1, stride=1))\n",
    "    #         layers.append(nn.BatchNorm2d(out_channel))\n",
    "    #         layers.append(nn.ReLU())\n",
    "    #     layers.append(nn.MaxPool2d(kernel_size=2, stride=2))\n",
    "    #     block = nn.Sequential(*layers)\n",
    "\n",
    "    #     return block"
   ]
  },
  {
   "cell_type": "code",
   "execution_count": 17,
   "metadata": {},
   "outputs": [
    {
     "name": "stdout",
     "output_type": "stream",
     "text": [
      "Using cuda device\n",
      "-----------------------------------------------------------------------------\n",
      "         Layer (type)            Input Shape         Param #     Tr. Param #\n",
      "=============================================================================\n",
      "             Conv2d-1       [4, 3, 224, 224]           1,792           1,792\n",
      "               ReLU-2      [4, 64, 224, 224]               0               0\n",
      "             Conv2d-3      [4, 64, 224, 224]          36,928          36,928\n",
      "               ReLU-4      [4, 64, 224, 224]               0               0\n",
      "          MaxPool2d-5      [4, 64, 224, 224]               0               0\n",
      "             Conv2d-6      [4, 64, 112, 112]          73,856          73,856\n",
      "               ReLU-7     [4, 128, 112, 112]               0               0\n",
      "             Conv2d-8     [4, 128, 112, 112]         147,584         147,584\n",
      "               ReLU-9     [4, 128, 112, 112]               0               0\n",
      "         MaxPool2d-10     [4, 128, 112, 112]               0               0\n",
      "            Conv2d-11       [4, 128, 56, 56]         295,168         295,168\n",
      "              ReLU-12       [4, 256, 56, 56]               0               0\n",
      "            Conv2d-13       [4, 256, 56, 56]         590,080         590,080\n",
      "              ReLU-14       [4, 256, 56, 56]               0               0\n",
      "            Conv2d-15       [4, 256, 56, 56]         590,080         590,080\n",
      "              ReLU-16       [4, 256, 56, 56]               0               0\n",
      "         MaxPool2d-17       [4, 256, 56, 56]               0               0\n",
      "            Conv2d-18       [4, 256, 28, 28]       1,180,160       1,180,160\n",
      "              ReLU-19       [4, 512, 28, 28]               0               0\n",
      "            Conv2d-20       [4, 512, 28, 28]       2,359,808       2,359,808\n",
      "              ReLU-21       [4, 512, 28, 28]               0               0\n",
      "            Conv2d-22       [4, 512, 28, 28]       2,359,808       2,359,808\n",
      "              ReLU-23       [4, 512, 28, 28]               0               0\n",
      "         MaxPool2d-24       [4, 512, 28, 28]               0               0\n",
      "            Conv2d-25       [4, 512, 14, 14]       2,359,808       2,359,808\n",
      "              ReLU-26       [4, 512, 14, 14]               0               0\n",
      "            Conv2d-27       [4, 512, 14, 14]       2,359,808       2,359,808\n",
      "              ReLU-28       [4, 512, 14, 14]               0               0\n",
      "            Conv2d-29       [4, 512, 14, 14]       2,359,808       2,359,808\n",
      "              ReLU-30       [4, 512, 14, 14]               0               0\n",
      "         MaxPool2d-31       [4, 512, 14, 14]               0               0\n",
      "            Conv2d-32         [4, 512, 7, 7]       2,101,248       2,101,248\n",
      "            Conv2d-33        [4, 4096, 7, 7]      16,781,312      16,781,312\n",
      "            Conv2d-34        [4, 4096, 7, 7]          86,037          86,037\n",
      "   ConvTranspose2d-35          [4, 21, 7, 7]         451,584         451,584\n",
      "=============================================================================\n",
      "Total params: 34,134,869\n",
      "Trainable params: 34,134,869\n",
      "Non-trainable params: 0\n",
      "-----------------------------------------------------------------------------\n"
     ]
    }
   ],
   "source": [
    "FCN =FCN32(num_class=21)\n",
    "\n",
    "device = 'cuda' if torch.cuda.is_available() else 'cpu'\n",
    "print(f'Using {device} device')\n",
    "#print(FCN)\n",
    "print(pytorch_model_summary.summary(FCN,torch.zeros(batch_size,3,224,224),show_input=True))"
   ]
  },
  {
   "cell_type": "code",
   "execution_count": 18,
   "metadata": {},
   "outputs": [],
   "source": [
    "criterion = nn.CrossEntropyLoss()\n",
    "optimizer = optim.Adam(FCN.parameters(), lr=0.0001)"
   ]
  },
  {
   "cell_type": "code",
   "execution_count": 19,
   "metadata": {},
   "outputs": [],
   "source": [
    "def pixel_accuracy(output, label):\n",
    "    with torch.no_grad():\n",
    "        output = torch.argmax(F.softmax(output, dim=1),dim=1)\n",
    "        correct = torch.eq(output, label).int()\n",
    "        accuracy = float(correct.sum()) / float(correct.numel())\n",
    "    return accuracy\n",
    "# https://sanghyu.tistory.com/3 -- view, contiguous\n",
    "def mIoU(output, label,num_classes=21):\n",
    "    with torch.no_grad():\n",
    "        output = F.softmax(output, dim=1)\n",
    "        output = torch.argmax(output, dim=1)\n",
    "        # 메모리에 저장된 순서를 하나씩, view할때 섞이지 않도록\n",
    "        output = output.contiguous().view(-1)\n",
    "        label = label.contiguous().view(-1)\n",
    "    \n",
    "        iou_class = []\n",
    "        for c in range(0, num_classes):\n",
    "            output_true = output==c\n",
    "            label_true = label==c\n",
    "\n",
    "            if label_true.long().sum().item() == 0:\n",
    "                iou_class.append(np.nan)\n",
    "            else:\n",
    "                intersect = torch.logical_and(output_true,label_true).sum().float().item()\n",
    "                union = torch.logical_or(output_true,label_true).sum().float().item()\n",
    "                iou= intersect/union\n",
    "                iou_class.append(iou)\n",
    "        return np.nanmean(iou_class)\n",
    "\n",
    "def get_lr(optim):\n",
    "    for param_group in optim.param_groups:\n",
    "        return param_group['lr']"
   ]
  },
  {
   "cell_type": "code",
   "execution_count": 20,
   "metadata": {},
   "outputs": [
    {
     "name": "stderr",
     "output_type": "stream",
     "text": [
      "366it [00:28, 12.72it/s]\n",
      "363it [00:18, 19.56it/s]\n"
     ]
    },
    {
     "name": "stdout",
     "output_type": "stream",
     "text": [
      "1 epcoh , time = 47.33\n",
      "train loss : 1.22772, val_loss : 1.04025\n",
      "train IoU : 0.12731, val IoU : 0.15404\n",
      "train Acc : 0.72486, val Acc : 0.75514\n"
     ]
    },
    {
     "name": "stderr",
     "output_type": "stream",
     "text": [
      "366it [00:28, 12.76it/s]\n",
      "363it [00:18, 19.81it/s]\n"
     ]
    },
    {
     "name": "stdout",
     "output_type": "stream",
     "text": [
      "2 epcoh , time = 47.00\n",
      "train loss : 0.95317, val_loss : 0.92085\n",
      "train IoU : 0.17620, val IoU : 0.22163\n",
      "train Acc : 0.76299, val Acc : 0.77587\n"
     ]
    },
    {
     "name": "stderr",
     "output_type": "stream",
     "text": [
      "366it [00:28, 12.89it/s]\n",
      "363it [00:18, 19.51it/s]\n"
     ]
    },
    {
     "name": "stdout",
     "output_type": "stream",
     "text": [
      "3 epcoh , time = 47.00\n",
      "train loss : 0.80873, val_loss : 0.84091\n",
      "train IoU : 0.21725, val IoU : 0.21549\n",
      "train Acc : 0.78059, val Acc : 0.77054\n"
     ]
    },
    {
     "name": "stderr",
     "output_type": "stream",
     "text": [
      "366it [00:28, 12.88it/s]\n",
      "363it [00:18, 19.76it/s]\n"
     ]
    },
    {
     "name": "stdout",
     "output_type": "stream",
     "text": [
      "4 epcoh , time = 46.79\n",
      "train loss : 0.71855, val_loss : 0.76300\n",
      "train IoU : 0.23366, val IoU : 0.24872\n",
      "train Acc : 0.79018, val Acc : 0.78813\n"
     ]
    },
    {
     "name": "stderr",
     "output_type": "stream",
     "text": [
      "366it [00:28, 12.97it/s]\n",
      "363it [00:18, 19.67it/s]\n"
     ]
    },
    {
     "name": "stdout",
     "output_type": "stream",
     "text": [
      "5 epcoh , time = 46.68\n",
      "train loss : 0.62994, val_loss : 0.76191\n",
      "train IoU : 0.27262, val IoU : 0.26693\n",
      "train Acc : 0.80632, val Acc : 0.79634\n"
     ]
    },
    {
     "name": "stderr",
     "output_type": "stream",
     "text": [
      "366it [00:28, 12.98it/s]\n",
      "363it [00:18, 19.85it/s]\n"
     ]
    },
    {
     "name": "stdout",
     "output_type": "stream",
     "text": [
      "6 epcoh , time = 46.48\n",
      "train loss : 0.56615, val_loss : 0.75963\n",
      "train IoU : 0.30863, val IoU : 0.24320\n",
      "train Acc : 0.81945, val Acc : 0.78991\n"
     ]
    },
    {
     "name": "stderr",
     "output_type": "stream",
     "text": [
      "366it [00:28, 12.70it/s]\n",
      "363it [00:18, 19.22it/s]\n"
     ]
    },
    {
     "name": "stdout",
     "output_type": "stream",
     "text": [
      "7 epcoh , time = 47.71\n",
      "train loss : 0.50845, val_loss : 0.76097\n",
      "train IoU : 0.35122, val IoU : 0.30107\n",
      "train Acc : 0.83682, val Acc : 0.80666\n"
     ]
    },
    {
     "name": "stderr",
     "output_type": "stream",
     "text": [
      "366it [00:29, 12.61it/s]\n",
      "363it [00:18, 19.88it/s]\n"
     ]
    },
    {
     "name": "stdout",
     "output_type": "stream",
     "text": [
      "8 epcoh , time = 47.29\n",
      "train loss : 0.43471, val_loss : 0.73710\n",
      "train IoU : 0.40342, val IoU : 0.31969\n",
      "train Acc : 0.85663, val Acc : 0.79990\n"
     ]
    },
    {
     "name": "stderr",
     "output_type": "stream",
     "text": [
      "366it [00:28, 12.64it/s]\n",
      "363it [00:19, 18.69it/s]\n"
     ]
    },
    {
     "name": "stdout",
     "output_type": "stream",
     "text": [
      "9 epcoh , time = 48.39\n",
      "train loss : 0.35607, val_loss : 0.72555\n",
      "train IoU : 0.46229, val IoU : 0.36594\n",
      "train Acc : 0.88029, val Acc : 0.81469\n"
     ]
    },
    {
     "name": "stderr",
     "output_type": "stream",
     "text": [
      "366it [00:28, 12.86it/s]\n",
      "363it [00:18, 19.14it/s]\n"
     ]
    },
    {
     "name": "stdout",
     "output_type": "stream",
     "text": [
      "10 epcoh , time = 47.43\n",
      "train loss : 0.34118, val_loss : 0.71886\n",
      "train IoU : 0.49290, val IoU : 0.36716\n",
      "train Acc : 0.88702, val Acc : 0.82527\n"
     ]
    },
    {
     "name": "stderr",
     "output_type": "stream",
     "text": [
      "366it [00:29, 12.57it/s]\n",
      "363it [00:18, 19.41it/s]\n"
     ]
    },
    {
     "name": "stdout",
     "output_type": "stream",
     "text": [
      "11 epcoh , time = 47.83\n",
      "train loss : 0.28812, val_loss : 0.70521\n",
      "train IoU : 0.54041, val IoU : 0.39597\n",
      "train Acc : 0.90423, val Acc : 0.83005\n"
     ]
    },
    {
     "name": "stderr",
     "output_type": "stream",
     "text": [
      "366it [00:28, 12.68it/s]\n",
      "363it [00:18, 19.44it/s]\n"
     ]
    },
    {
     "name": "stdout",
     "output_type": "stream",
     "text": [
      "12 epcoh , time = 47.55\n",
      "train loss : 0.24370, val_loss : 0.72567\n",
      "train IoU : 0.57607, val IoU : 0.38614\n",
      "train Acc : 0.91589, val Acc : 0.82561\n"
     ]
    },
    {
     "name": "stderr",
     "output_type": "stream",
     "text": [
      "366it [00:28, 12.72it/s]\n",
      "363it [00:18, 19.65it/s]\n"
     ]
    },
    {
     "name": "stdout",
     "output_type": "stream",
     "text": [
      "13 epcoh , time = 47.25\n",
      "train loss : 0.22669, val_loss : 0.75315\n",
      "train IoU : 0.60080, val IoU : 0.39656\n",
      "train Acc : 0.92246, val Acc : 0.81864\n"
     ]
    },
    {
     "name": "stderr",
     "output_type": "stream",
     "text": [
      "366it [00:28, 12.83it/s]\n",
      "363it [00:18, 19.78it/s]\n"
     ]
    },
    {
     "name": "stdout",
     "output_type": "stream",
     "text": [
      "14 epcoh , time = 46.88\n",
      "train loss : 0.21381, val_loss : 0.73880\n",
      "train IoU : 0.61344, val IoU : 0.39957\n",
      "train Acc : 0.92577, val Acc : 0.83174\n"
     ]
    },
    {
     "name": "stderr",
     "output_type": "stream",
     "text": [
      "366it [00:29, 12.45it/s]\n",
      "363it [00:18, 19.91it/s]\n"
     ]
    },
    {
     "name": "stdout",
     "output_type": "stream",
     "text": [
      "15 epcoh , time = 47.64\n",
      "train loss : 0.18956, val_loss : 0.72241\n",
      "train IoU : 0.63426, val IoU : 0.43332\n",
      "train Acc : 0.93410, val Acc : 0.83379\n"
     ]
    },
    {
     "name": "stderr",
     "output_type": "stream",
     "text": [
      "366it [00:28, 12.86it/s]\n",
      "363it [00:18, 19.71it/s]\n"
     ]
    },
    {
     "name": "stdout",
     "output_type": "stream",
     "text": [
      "16 epcoh , time = 46.89\n",
      "train loss : 0.18408, val_loss : 0.76508\n",
      "train IoU : 0.64312, val IoU : 0.42596\n",
      "train Acc : 0.93535, val Acc : 0.83564\n"
     ]
    },
    {
     "name": "stderr",
     "output_type": "stream",
     "text": [
      "366it [00:28, 12.99it/s]\n",
      "363it [00:18, 19.68it/s]\n"
     ]
    },
    {
     "name": "stdout",
     "output_type": "stream",
     "text": [
      "17 epcoh , time = 46.62\n",
      "train loss : 0.18855, val_loss : 0.95354\n",
      "train IoU : 0.64484, val IoU : 0.38941\n",
      "train Acc : 0.93464, val Acc : 0.82853\n"
     ]
    },
    {
     "name": "stderr",
     "output_type": "stream",
     "text": [
      "366it [00:28, 13.02it/s]\n",
      "363it [00:18, 19.92it/s]\n"
     ]
    },
    {
     "name": "stdout",
     "output_type": "stream",
     "text": [
      "18 epcoh , time = 46.33\n",
      "train loss : 0.21537, val_loss : 0.94944\n",
      "train IoU : 0.61836, val IoU : 0.38574\n",
      "train Acc : 0.92676, val Acc : 0.81938\n"
     ]
    },
    {
     "name": "stderr",
     "output_type": "stream",
     "text": [
      "366it [00:28, 12.97it/s]\n",
      "363it [00:18, 19.91it/s]\n"
     ]
    },
    {
     "name": "stdout",
     "output_type": "stream",
     "text": [
      "19 epcoh , time = 46.45\n",
      "train loss : 0.17442, val_loss : 0.81815\n",
      "train IoU : 0.65813, val IoU : 0.41499\n",
      "train Acc : 0.93861, val Acc : 0.84222\n"
     ]
    },
    {
     "name": "stderr",
     "output_type": "stream",
     "text": [
      "366it [00:29, 12.57it/s]\n",
      "363it [00:18, 19.60it/s]\n"
     ]
    },
    {
     "name": "stdout",
     "output_type": "stream",
     "text": [
      "20 epcoh , time = 47.64\n",
      "train loss : 0.14257, val_loss : 0.79008\n",
      "train IoU : 0.68151, val IoU : 0.42538\n",
      "train Acc : 0.94761, val Acc : 0.84428\n"
     ]
    },
    {
     "name": "stderr",
     "output_type": "stream",
     "text": [
      "366it [00:28, 12.84it/s]\n",
      "363it [00:18, 19.64it/s]\n"
     ]
    },
    {
     "name": "stdout",
     "output_type": "stream",
     "text": [
      "21 epcoh , time = 46.99\n",
      "train loss : 0.13438, val_loss : 0.86114\n",
      "train IoU : 0.69648, val IoU : 0.41924\n",
      "train Acc : 0.94994, val Acc : 0.84193\n"
     ]
    },
    {
     "name": "stderr",
     "output_type": "stream",
     "text": [
      "366it [00:28, 12.96it/s]\n",
      "363it [00:18, 19.83it/s]\n"
     ]
    },
    {
     "name": "stdout",
     "output_type": "stream",
     "text": [
      "22 epcoh , time = 46.55\n",
      "train loss : 0.12881, val_loss : 0.82230\n",
      "train IoU : 0.70294, val IoU : 0.42207\n",
      "train Acc : 0.95139, val Acc : 0.84389\n"
     ]
    },
    {
     "name": "stderr",
     "output_type": "stream",
     "text": [
      "366it [00:28, 12.97it/s]\n",
      "363it [00:18, 19.73it/s]\n"
     ]
    },
    {
     "name": "stdout",
     "output_type": "stream",
     "text": [
      "23 epcoh , time = 46.62\n",
      "train loss : 0.12676, val_loss : 0.79134\n",
      "train IoU : 0.70787, val IoU : 0.43438\n",
      "train Acc : 0.95182, val Acc : 0.84082\n"
     ]
    },
    {
     "name": "stderr",
     "output_type": "stream",
     "text": [
      "366it [00:28, 12.68it/s]\n",
      "363it [00:19, 19.04it/s]\n"
     ]
    },
    {
     "name": "stdout",
     "output_type": "stream",
     "text": [
      "24 epcoh , time = 47.94\n",
      "train loss : 0.12773, val_loss : 0.80057\n",
      "train IoU : 0.70413, val IoU : 0.44322\n",
      "train Acc : 0.95186, val Acc : 0.84035\n"
     ]
    },
    {
     "name": "stderr",
     "output_type": "stream",
     "text": [
      "366it [00:28, 12.68it/s]\n",
      "363it [00:18, 19.70it/s]\n"
     ]
    },
    {
     "name": "stdout",
     "output_type": "stream",
     "text": [
      "25 epcoh , time = 47.30\n",
      "train loss : 0.12794, val_loss : 0.89035\n",
      "train IoU : 0.70295, val IoU : 0.41976\n",
      "train Acc : 0.95171, val Acc : 0.83826\n"
     ]
    },
    {
     "name": "stderr",
     "output_type": "stream",
     "text": [
      "366it [00:28, 12.89it/s]\n",
      "363it [00:18, 19.63it/s]\n"
     ]
    },
    {
     "name": "stdout",
     "output_type": "stream",
     "text": [
      "26 epcoh , time = 46.89\n",
      "train loss : 0.29216, val_loss : 0.72230\n",
      "train IoU : 0.57436, val IoU : 0.39487\n",
      "train Acc : 0.90873, val Acc : 0.81749\n"
     ]
    },
    {
     "name": "stderr",
     "output_type": "stream",
     "text": [
      "366it [00:28, 12.90it/s]\n",
      "363it [00:18, 19.86it/s]\n"
     ]
    },
    {
     "name": "stdout",
     "output_type": "stream",
     "text": [
      "27 epcoh , time = 46.65\n",
      "train loss : 0.16669, val_loss : 0.80945\n",
      "train IoU : 0.66905, val IoU : 0.39996\n",
      "train Acc : 0.94125, val Acc : 0.83239\n"
     ]
    },
    {
     "name": "stderr",
     "output_type": "stream",
     "text": [
      "366it [00:28, 12.82it/s]\n",
      "363it [00:18, 19.60it/s]\n"
     ]
    },
    {
     "name": "stdout",
     "output_type": "stream",
     "text": [
      "28 epcoh , time = 47.08\n",
      "train loss : 0.12405, val_loss : 0.77727\n",
      "train IoU : 0.70754, val IoU : 0.42096\n",
      "train Acc : 0.95281, val Acc : 0.84104\n"
     ]
    },
    {
     "name": "stderr",
     "output_type": "stream",
     "text": [
      "366it [00:28, 12.66it/s]\n",
      "363it [00:18, 19.68it/s]\n"
     ]
    },
    {
     "name": "stdout",
     "output_type": "stream",
     "text": [
      "29 epcoh , time = 47.35\n",
      "train loss : 0.11589, val_loss : 0.76405\n",
      "train IoU : 0.72190, val IoU : 0.43712\n",
      "train Acc : 0.95530, val Acc : 0.84225\n"
     ]
    },
    {
     "name": "stderr",
     "output_type": "stream",
     "text": [
      "366it [00:29, 12.54it/s]\n",
      "363it [00:18, 19.46it/s]\n"
     ]
    },
    {
     "name": "stdout",
     "output_type": "stream",
     "text": [
      "30 epcoh , time = 47.85\n",
      "train loss : 0.11183, val_loss : 0.83680\n",
      "train IoU : 0.72310, val IoU : 0.43726\n",
      "train Acc : 0.95640, val Acc : 0.84284\n"
     ]
    },
    {
     "name": "stderr",
     "output_type": "stream",
     "text": [
      "366it [00:29, 12.62it/s]\n",
      "363it [00:18, 19.34it/s]\n"
     ]
    },
    {
     "name": "stdout",
     "output_type": "stream",
     "text": [
      "31 epcoh , time = 47.79\n",
      "train loss : 0.10981, val_loss : 0.84999\n",
      "train IoU : 0.72688, val IoU : 0.43617\n",
      "train Acc : 0.95693, val Acc : 0.84579\n"
     ]
    },
    {
     "name": "stderr",
     "output_type": "stream",
     "text": [
      "366it [00:28, 12.83it/s]\n",
      "363it [00:18, 19.72it/s]\n"
     ]
    },
    {
     "name": "stdout",
     "output_type": "stream",
     "text": [
      "32 epcoh , time = 46.94\n",
      "train loss : 0.10991, val_loss : 0.83755\n",
      "train IoU : 0.72991, val IoU : 0.43721\n",
      "train Acc : 0.95686, val Acc : 0.84241\n"
     ]
    },
    {
     "name": "stderr",
     "output_type": "stream",
     "text": [
      "366it [00:28, 12.85it/s]\n",
      "363it [00:18, 19.69it/s]\n"
     ]
    },
    {
     "name": "stdout",
     "output_type": "stream",
     "text": [
      "33 epcoh , time = 46.93\n",
      "train loss : 0.10922, val_loss : 0.84892\n",
      "train IoU : 0.72645, val IoU : 0.43509\n",
      "train Acc : 0.95713, val Acc : 0.84347\n"
     ]
    },
    {
     "name": "stderr",
     "output_type": "stream",
     "text": [
      "366it [00:28, 12.94it/s]\n",
      "363it [00:18, 19.87it/s]\n"
     ]
    },
    {
     "name": "stdout",
     "output_type": "stream",
     "text": [
      "34 epcoh , time = 46.55\n",
      "train loss : 0.11015, val_loss : 0.87340\n",
      "train IoU : 0.72745, val IoU : 0.43178\n",
      "train Acc : 0.95693, val Acc : 0.84171\n"
     ]
    },
    {
     "name": "stderr",
     "output_type": "stream",
     "text": [
      "366it [00:28, 12.86it/s]\n",
      "363it [00:18, 19.85it/s]\n"
     ]
    },
    {
     "name": "stdout",
     "output_type": "stream",
     "text": [
      "35 epcoh , time = 46.76\n",
      "train loss : 0.11075, val_loss : 0.96559\n",
      "train IoU : 0.72272, val IoU : 0.41017\n",
      "train Acc : 0.95661, val Acc : 0.83552\n"
     ]
    },
    {
     "name": "stderr",
     "output_type": "stream",
     "text": [
      "366it [00:28, 12.70it/s]\n",
      "363it [00:18, 19.52it/s]\n"
     ]
    },
    {
     "name": "stdout",
     "output_type": "stream",
     "text": [
      "36 epcoh , time = 47.42\n",
      "train loss : 0.22280, val_loss : 0.84247\n",
      "train IoU : 0.64043, val IoU : 0.38939\n",
      "train Acc : 0.92709, val Acc : 0.82122\n"
     ]
    },
    {
     "name": "stderr",
     "output_type": "stream",
     "text": [
      "366it [00:28, 12.88it/s]\n",
      "363it [00:18, 19.82it/s]\n"
     ]
    },
    {
     "name": "stdout",
     "output_type": "stream",
     "text": [
      "37 epcoh , time = 46.74\n",
      "train loss : 0.13708, val_loss : 0.78996\n",
      "train IoU : 0.70031, val IoU : 0.44556\n",
      "train Acc : 0.94916, val Acc : 0.84291\n"
     ]
    },
    {
     "name": "stderr",
     "output_type": "stream",
     "text": [
      "366it [00:28, 12.83it/s]\n",
      "363it [00:18, 19.58it/s]\n"
     ]
    },
    {
     "name": "stdout",
     "output_type": "stream",
     "text": [
      "38 epcoh , time = 47.08\n",
      "train loss : 0.10696, val_loss : 0.84623\n",
      "train IoU : 0.73152, val IoU : 0.43855\n",
      "train Acc : 0.95792, val Acc : 0.84556\n"
     ]
    },
    {
     "name": "stderr",
     "output_type": "stream",
     "text": [
      "366it [00:28, 12.93it/s]\n",
      "363it [00:18, 19.72it/s]\n"
     ]
    },
    {
     "name": "stdout",
     "output_type": "stream",
     "text": [
      "39 epcoh , time = 46.72\n",
      "train loss : 0.10033, val_loss : 0.87609\n",
      "train IoU : 0.73976, val IoU : 0.43682\n",
      "train Acc : 0.95999, val Acc : 0.84616\n"
     ]
    },
    {
     "name": "stderr",
     "output_type": "stream",
     "text": [
      "366it [00:28, 12.98it/s]\n",
      "363it [00:18, 19.91it/s]\n"
     ]
    },
    {
     "name": "stdout",
     "output_type": "stream",
     "text": [
      "40 epcoh , time = 46.43\n",
      "train loss : 0.09863, val_loss : 0.88616\n",
      "train IoU : 0.74194, val IoU : 0.44266\n",
      "train Acc : 0.96049, val Acc : 0.84678\n"
     ]
    },
    {
     "name": "stderr",
     "output_type": "stream",
     "text": [
      "366it [00:28, 12.80it/s]\n",
      "363it [00:18, 19.13it/s]\n"
     ]
    },
    {
     "name": "stdout",
     "output_type": "stream",
     "text": [
      "41 epcoh , time = 47.57\n",
      "train loss : 0.09722, val_loss : 0.85105\n",
      "train IoU : 0.74613, val IoU : 0.44393\n",
      "train Acc : 0.96084, val Acc : 0.84537\n"
     ]
    },
    {
     "name": "stderr",
     "output_type": "stream",
     "text": [
      "366it [00:28, 12.96it/s]\n",
      "363it [00:18, 19.93it/s]\n"
     ]
    },
    {
     "name": "stdout",
     "output_type": "stream",
     "text": [
      "42 epcoh , time = 46.46\n",
      "train loss : 0.09745, val_loss : 0.88913\n",
      "train IoU : 0.75105, val IoU : 0.43152\n",
      "train Acc : 0.96085, val Acc : 0.84208\n"
     ]
    },
    {
     "name": "stderr",
     "output_type": "stream",
     "text": [
      "366it [00:28, 12.64it/s]\n",
      "363it [00:18, 19.54it/s]\n"
     ]
    },
    {
     "name": "stdout",
     "output_type": "stream",
     "text": [
      "43 epcoh , time = 47.55\n",
      "train loss : 0.09952, val_loss : 0.90906\n",
      "train IoU : 0.74473, val IoU : 0.44281\n",
      "train Acc : 0.96016, val Acc : 0.84212\n"
     ]
    },
    {
     "name": "stderr",
     "output_type": "stream",
     "text": [
      "366it [00:28, 12.83it/s]\n",
      "363it [00:18, 19.51it/s]\n"
     ]
    },
    {
     "name": "stdout",
     "output_type": "stream",
     "text": [
      "44 epcoh , time = 47.15\n",
      "train loss : 0.09831, val_loss : 0.79889\n",
      "train IoU : 0.75069, val IoU : 0.45329\n",
      "train Acc : 0.96083, val Acc : 0.83998\n"
     ]
    },
    {
     "name": "stderr",
     "output_type": "stream",
     "text": [
      "366it [00:28, 12.67it/s]\n",
      "363it [00:18, 19.13it/s]\n"
     ]
    },
    {
     "name": "stdout",
     "output_type": "stream",
     "text": [
      "45 epcoh , time = 47.88\n",
      "train loss : 0.09755, val_loss : 0.87503\n",
      "train IoU : 0.74727, val IoU : 0.44050\n",
      "train Acc : 0.96083, val Acc : 0.84494\n"
     ]
    },
    {
     "name": "stderr",
     "output_type": "stream",
     "text": [
      "366it [00:28, 12.73it/s]\n",
      "363it [00:19, 18.54it/s]\n"
     ]
    },
    {
     "name": "stdout",
     "output_type": "stream",
     "text": [
      "46 epcoh , time = 48.33\n",
      "train loss : 0.09770, val_loss : 0.89387\n",
      "train IoU : 0.74756, val IoU : 0.44998\n",
      "train Acc : 0.96107, val Acc : 0.84282\n"
     ]
    },
    {
     "name": "stderr",
     "output_type": "stream",
     "text": [
      "366it [00:28, 12.67it/s]\n",
      "363it [00:18, 19.51it/s]\n"
     ]
    },
    {
     "name": "stdout",
     "output_type": "stream",
     "text": [
      "47 epcoh , time = 47.51\n",
      "train loss : 0.09708, val_loss : 0.89593\n",
      "train IoU : 0.74813, val IoU : 0.44868\n",
      "train Acc : 0.96118, val Acc : 0.83981\n"
     ]
    },
    {
     "name": "stderr",
     "output_type": "stream",
     "text": [
      "366it [00:28, 12.79it/s]\n",
      "363it [00:18, 19.71it/s]\n"
     ]
    },
    {
     "name": "stdout",
     "output_type": "stream",
     "text": [
      "48 epcoh , time = 47.04\n",
      "train loss : 0.09647, val_loss : 0.87397\n",
      "train IoU : 0.74940, val IoU : 0.43917\n",
      "train Acc : 0.96141, val Acc : 0.84127\n"
     ]
    },
    {
     "name": "stderr",
     "output_type": "stream",
     "text": [
      "366it [00:28, 12.99it/s]\n",
      "363it [00:18, 19.49it/s]\n"
     ]
    },
    {
     "name": "stdout",
     "output_type": "stream",
     "text": [
      "49 epcoh , time = 46.81\n",
      "train loss : 0.09669, val_loss : 0.90942\n",
      "train IoU : 0.74824, val IoU : 0.44671\n",
      "train Acc : 0.96129, val Acc : 0.84191\n"
     ]
    },
    {
     "name": "stderr",
     "output_type": "stream",
     "text": [
      "366it [00:29, 12.52it/s]\n",
      "363it [00:18, 19.67it/s]"
     ]
    },
    {
     "name": "stdout",
     "output_type": "stream",
     "text": [
      "50 epcoh , time = 47.69\n",
      "train loss : 0.09503, val_loss : 0.89108\n",
      "train IoU : 0.75025, val IoU : 0.44287\n",
      "train Acc : 0.96177, val Acc : 0.84301\n",
      "Finish Training\n"
     ]
    },
    {
     "name": "stderr",
     "output_type": "stream",
     "text": [
      "\n"
     ]
    }
   ],
   "source": [
    "# 학습\n",
    "FCN.to(device)\n",
    "epochs= 50\n",
    "best_loss = 0\n",
    "train_loss_list = []\n",
    "train_acc_list = []\n",
    "train_iou_list = []\n",
    "val_loss_list = []\n",
    "val_acc_list = []\n",
    "val_iou_list = []\n",
    "min_miou = 0\n",
    "lrs = []\n",
    "for epoch in range(epochs):\n",
    "    val_running_loss = 0\n",
    "    train_running_loss =0\n",
    "    start_time = time.time()\n",
    "    train_iou_score = 0\n",
    "    val_iou_score =0\n",
    "    train_acc = 0\n",
    "    val_acc = 0\n",
    "\n",
    "    FCN.train()\n",
    "    for iter,data in tqdm(enumerate(train_loader)):\n",
    "        inputs, labels = data\n",
    "        inputs = inputs.to(device)\n",
    "        labels = labels.to(device)\n",
    "        optimizer.zero_grad()\n",
    "        outputs = FCN(inputs)\n",
    "        # print(f'input shape : {inputs.shape}')\n",
    "        # print(f'output shape : {outputs[0][0].shape}')\n",
    "        # print(f'output  --{outputs[0][0]}')\n",
    "        # print(f'labels shape : {labels.shape}')\n",
    "        # print(f'lable --{labels[labels>0]}')\n",
    "        loss = criterion(outputs,labels) \n",
    "        loss.backward()\n",
    "        optimizer.step()\n",
    "\n",
    "        train_iou_score += mIoU(outputs, labels)\n",
    "        train_acc += pixel_accuracy(outputs, labels)\n",
    "        train_running_loss += loss.item()\n",
    "    \n",
    "    FCN.eval()\n",
    "    with torch.no_grad():\n",
    "        for iter, vdata in tqdm(enumerate(val_loader)):\n",
    "            vinputs, vlabels = vdata\n",
    "            vinputs = vinputs.to(device)\n",
    "            vlabels = vlabels.to(device)\n",
    "\n",
    "            voutputs = FCN(vinputs)\n",
    "            vloss = criterion(voutputs,vlabels)\n",
    "\n",
    "            val_running_loss += vloss.item()\n",
    "            val_iou_score += mIoU(voutputs,vlabels)\n",
    "            val_acc += pixel_accuracy(voutputs,vlabels)\n",
    "\n",
    "\n",
    "        train_running_loss /= len(train_loader)\n",
    "        train_iou_score /=len(train_loader)\n",
    "        train_acc /=len(train_loader)\n",
    "        val_running_loss /= len(val_loader)\n",
    "        val_iou_score /=len(val_loader)\n",
    "        val_acc /=len(val_loader)\n",
    "        lrs.append(get_lr(optimizer))\n",
    "\n",
    "        print(f'{epoch+1} epcoh , time = {time.time()-start_time:.2f}')\n",
    "        print(f'train loss : {train_running_loss:.5f}, val_loss : {val_running_loss:.5f}')\n",
    "        print(f'train IoU : {train_iou_score:.5f}, val IoU : {val_iou_score:.5f}')\n",
    "        print(f'train Acc : {train_acc:.5f}, val Acc : {val_acc:.5f}')\n",
    "        train_loss_list.append(train_running_loss)\n",
    "        train_iou_list.append(train_iou_score)\n",
    "        train_acc_list.append(train_acc)\n",
    "        val_loss_list.append(val_running_loss)\n",
    "        val_iou_list.append(val_iou_score)\n",
    "        val_acc_list.append(val_acc)\n",
    "\n",
    "        if min_miou < val_iou_score:\n",
    "            min_miou = val_iou_score\n",
    "            #print('save model')\n",
    "            torch.save(FCN, './models/FCN32-Vgg16_test.pt') \n",
    "            \n",
    "                   \n",
    "history = {'train_loss': train_loss_list, 'val_loss':val_loss_list,'train_miou': train_iou_list,\n",
    "'val_miou':val_iou_list,'train_acc':train_acc_list,'val_acc':val_acc_list, 'lr':lrs}\n",
    "print('Finish Training')"
   ]
  },
  {
   "cell_type": "code",
   "execution_count": 25,
   "metadata": {},
   "outputs": [
    {
     "data": {
      "image/png": "[encoded data removed]",
      "text/plain": [
       "<Figure size 432x288 with 1 Axes>"
      ]
     },
     "metadata": {
      "needs_background": "light"
     },
     "output_type": "display_data"
    },
    {
     "data": {
      "image/png": "[encoded data removed]",
      "text/plain": [
       "<Figure size 432x288 with 1 Axes>"
      ]
     },
     "metadata": {
      "needs_background": "light"
     },
     "output_type": "display_data"
    },
    {
     "data": {
      "image/png": "[encoded data removed]",
      "text/plain": [
       "<Figure size 432x288 with 1 Axes>"
      ]
     },
     "metadata": {
      "needs_background": "light"
     },
     "output_type": "display_data"
    }
   ],
   "source": [
    "history = {'train_loss': train_loss_list, 'val_loss':val_loss_list,'train_miou': train_iou_list,\n",
    "'val_miou':val_iou_list,'train_acc':train_acc_list,'val_acc':val_acc_list,'lr':lrs}\n",
    "def plot_loss(history):\n",
    "    plt.plot(history['train_loss'], label='train_loss')\n",
    "    plt.plot(history['val_loss'], label='val_loss')\n",
    "    plt.title('Loss')\n",
    "    plt.xlabel('epoch')\n",
    "    plt.ylabel('loss')\n",
    "    plt.legend()\n",
    "    plt.show()\n",
    "\n",
    "def plot_miou(history):\n",
    "    plt.plot(history['train_miou'], label='train_miou')\n",
    "    plt.plot(history['val_miou'], label='val_miou')\n",
    "    plt.title('MIoU')\n",
    "    plt.xlabel('epoch')\n",
    "    plt.ylabel('miou')\n",
    "    plt.legend()\n",
    "    plt.show()\n",
    "\n",
    "def plot_acc(history):\n",
    "    plt.plot(history['train_acc'], label='train_acc')\n",
    "    plt.plot(history['val_acc'], label='val_acc')\n",
    "    plt.title('Accuracy')\n",
    "    plt.xlabel('epoch')\n",
    "    plt.ylabel('acc')\n",
    "    plt.legend()\n",
    "    plt.show()\n",
    "plot_loss(history)\n",
    "plot_acc(history)\n",
    "plot_miou(history)"
   ]
  },
  {
   "cell_type": "code",
   "execution_count": 26,
   "metadata": {},
   "outputs": [],
   "source": [
    "best=torch.load('./models/FCN32-Vgg16_test.pt')"
   ]
  },
  {
   "cell_type": "code",
   "execution_count": 27,
   "metadata": {},
   "outputs": [],
   "source": [
    "def decode_segmap(image, num_class=21):\n",
    "    label_color = np.array([(0, 0, 0),\n",
    "               (128, 0, 0), (0, 128, 0), (128, 128, 0), (0, 0, 128), (128, 0, 128),\n",
    "               (0, 128, 128), (128, 128, 128), (64, 0, 0), (192, 0, 0), (64, 128, 0),\n",
    "               (192, 128, 0), (64, 0, 128), (192, 0, 128), (64, 128, 128), (192, 128, 128),\n",
    "               (0, 64, 0), (128, 64, 0), (0, 192, 0), (128, 192, 0), (0, 64, 128)])\n",
    "    r = np.zeros_like(image).astype(np.uint8)\n",
    "    g = np.zeros_like(image).astype(np.uint8)\n",
    "    b = np.zeros_like(image).astype(np.uint8)\n",
    "\n",
    "    for l in range(0, num_class):\n",
    "        idx = image==l\n",
    "        r[idx] = label_color[l,0]\n",
    "        g[idx] = label_color[l,1]\n",
    "        b[idx] = label_color[l,2]\n",
    "    rgb =np.stack([r,g,b], axis=2)\n",
    "    return rgb"
   ]
  },
  {
   "cell_type": "code",
   "execution_count": 29,
   "metadata": {},
   "outputs": [
    {
     "name": "stdout",
     "output_type": "stream",
     "text": [
      "(224, 224)\n"
     ]
    },
    {
     "data": {
      "image/png": "[encoded data removed]",
      "text/plain": [
       "<Figure size 1080x720 with 3 Axes>"
      ]
     },
     "metadata": {
      "needs_background": "light"
     },
     "output_type": "display_data"
    }
   ],
   "source": [
    "#img, label= train_set[0]\n",
    "best.eval()\n",
    "with torch.no_grad():\n",
    "    for i, data in enumerate(train_loader):\n",
    "        img, label = data\n",
    "        \n",
    "        best.to(device)\n",
    "        #print(f'input shape:',img.shape)\n",
    "        img = img.to(device)\n",
    "        output = best(img)\n",
    "\n",
    "        # tensor의 추적 제거 detach\n",
    "        pred = torch.argmax(output[0], dim=0).detach().cpu().numpy()\n",
    "        print(pred.shape)\n",
    "        pred = decode_segmap(pred,21)\n",
    "        \n",
    "        img = img.squeeze() * torch.tensor(data_std).view(3, 1, 1).to(device)\n",
    "        img = img + torch.tensor(data_mean).view(3, 1, 1).to(device)\n",
    "        img = img[0].detach().cpu().numpy()\n",
    "        img = img.reshape(img.shape[1], img.shape[2], img.shape[0])\n",
    "\n",
    "        label = label.numpy()\n",
    "        #label = decode_segmap(label[0],21)\n",
    "        \n",
    "        plt.figure(figsize=(15,10))\n",
    "        plt.subplot(1,3,1)\n",
    "        plt.title('input')\n",
    "        plt.axis('off')\n",
    "        plt.imshow(img)\n",
    "        plt.subplot(1,3,2)\n",
    "        plt.title('output')\n",
    "        plt.axis('off')\n",
    "        plt.imshow(pred)\n",
    "        plt.subplot(1,3,3)\n",
    "        plt.title('label')\n",
    "        plt.axis('off')\n",
    "        plt.imshow(label[0])\n",
    "        break\n"
   ]
  }
 ],
 "metadata": {
  "interpreter": {
   "hash": "d4d1e4263499bec80672ea0156c357c1ee493ec2b1c70f0acce89fc37c4a6abe"
  },
  "kernelspec": {
   "display_name": "Python 3.8.12 ('base')",
   "language": "python",
   "name": "python3"
  },
  "language_info": {
   "codemirror_mode": {
    "name": "ipython",
    "version": 3
   },
   "file_extension": ".py",
   "mimetype": "text/x-python",
   "name": "python",
   "nbconvert_exporter": "python",
   "pygments_lexer": "ipython3",
   "version": "3.8.12"
  },
  "orig_nbformat": 4
 },
 "nbformat": 4,
 "nbformat_minor": 2
}
